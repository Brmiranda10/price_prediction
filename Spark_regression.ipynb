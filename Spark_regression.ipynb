{
  "nbformat": 4,
  "nbformat_minor": 0,
  "metadata": {
    "colab": {
      "provenance": [],
      "toc_visible": true,
      "authorship_tag": "ABX9TyMrcN/Ufpf9rsxlAwgF9UbA",
      "include_colab_link": true
    },
    "kernelspec": {
      "name": "python3",
      "display_name": "Python 3"
    },
    "language_info": {
      "name": "python"
    }
  },
  "cells": [
    {
      "cell_type": "markdown",
      "metadata": {
        "id": "view-in-github",
        "colab_type": "text"
      },
      "source": [
        "<a href=\"https://colab.research.google.com/github/Brmiranda10/price_prediction/blob/main/Spark_regression.ipynb\" target=\"_parent\"><img src=\"https://colab.research.google.com/assets/colab-badge.svg\" alt=\"Open In Colab\"/></a>"
      ]
    },
    {
      "cell_type": "markdown",
      "source": [
        "# Installing"
      ],
      "metadata": {
        "id": "UHtq-x0Jl9-D"
      }
    },
    {
      "cell_type": "code",
      "execution_count": null,
      "metadata": {
        "colab": {
          "base_uri": "https://localhost:8080/"
        },
        "id": "NQETNYYrl3JP",
        "outputId": "748f90bf-0c5e-4ba7-acee-73085413e9f8"
      },
      "outputs": [
        {
          "output_type": "stream",
          "name": "stdout",
          "text": [
            "\u001b[2K     \u001b[90m━━━━━━━━━━━━━━━━━━━━━━━━━━━━━━━━━━━━━━━\u001b[0m \u001b[32m310.8/310.8 MB\u001b[0m \u001b[31m3.0 MB/s\u001b[0m eta \u001b[36m0:00:00\u001b[0m\n",
            "\u001b[?25h  Preparing metadata (setup.py) ... \u001b[?25l\u001b[?25hdone\n",
            "  Building wheel for pyspark (setup.py) ... \u001b[?25l\u001b[?25hdone\n"
          ]
        }
      ],
      "source": [
        "!pip install -q pyspark"
      ]
    },
    {
      "cell_type": "markdown",
      "source": [
        "# Imports"
      ],
      "metadata": {
        "id": "9FQOSGaWmK20"
      }
    },
    {
      "cell_type": "code",
      "source": [
        "from pyspark.sql import SparkSession\n",
        "from google.colab import drive\n",
        "import zipfile\n",
        "from pyspark.sql import functions as f\n",
        "from pyspark.sql.types import DoubleType, StringType, IntegerType\n",
        "from pyspark.ml.regression import LinearRegression\n",
        "from pyspark.ml.feature import VectorAssembler\n",
        "from pyspark.ml.stat import Correlation\n",
        "import pandas as pd\n",
        "import matplotlib.pyplot as plt\n",
        "import seaborn as sns\n",
        "from pyspark.ml.regression import DecisionTreeRegressor\n",
        "from pyspark.ml.evaluation import RegressionEvaluator\n",
        "from pyspark.ml.regression import RandomForestRegressor\n",
        "from pyspark.ml.tuning import CrossValidator, ParamGridBuilder"
      ],
      "metadata": {
        "id": "ygZXwR_omMZq"
      },
      "execution_count": null,
      "outputs": []
    },
    {
      "cell_type": "markdown",
      "source": [
        "# Spark session"
      ],
      "metadata": {
        "id": "c6HI2X5KmFdj"
      }
    },
    {
      "cell_type": "code",
      "source": [
        "spark = SparkSession.builder \\\n",
        "  .master('local[*]') \\\n",
        "  .appName('Spark Regression') \\\n",
        "  .getOrCreate()\n",
        "spark"
      ],
      "metadata": {
        "colab": {
          "base_uri": "https://localhost:8080/",
          "height": 222
        },
        "id": "8PNeksLImENX",
        "outputId": "630975a0-50de-4b27-8767-99ee7ce97a64"
      },
      "execution_count": null,
      "outputs": [
        {
          "output_type": "execute_result",
          "data": {
            "text/plain": [
              "<pyspark.sql.session.SparkSession at 0x788a22132860>"
            ],
            "text/html": [
              "\n",
              "            <div>\n",
              "                <p><b>SparkSession - in-memory</b></p>\n",
              "                \n",
              "        <div>\n",
              "            <p><b>SparkContext</b></p>\n",
              "\n",
              "            <p><a href=\"http://5395a6acd3e6:4040\">Spark UI</a></p>\n",
              "\n",
              "            <dl>\n",
              "              <dt>Version</dt>\n",
              "                <dd><code>v3.4.1</code></dd>\n",
              "              <dt>Master</dt>\n",
              "                <dd><code>local[*]</code></dd>\n",
              "              <dt>AppName</dt>\n",
              "                <dd><code>Spark Regression</code></dd>\n",
              "            </dl>\n",
              "        </div>\n",
              "        \n",
              "            </div>\n",
              "        "
            ]
          },
          "metadata": {},
          "execution_count": 4
        }
      ]
    },
    {
      "cell_type": "markdown",
      "source": [
        "# Loading the data"
      ],
      "metadata": {
        "id": "eRDQUvy0mnDN"
      }
    },
    {
      "cell_type": "code",
      "source": [
        "drive.mount('/content/drive')"
      ],
      "metadata": {
        "colab": {
          "base_uri": "https://localhost:8080/"
        },
        "id": "lf36RYR1mpee",
        "outputId": "396f4a2a-2b9d-41ab-d4c9-75df562daa51"
      },
      "execution_count": null,
      "outputs": [
        {
          "output_type": "stream",
          "name": "stdout",
          "text": [
            "Mounted at /content/drive\n"
          ]
        }
      ]
    },
    {
      "cell_type": "code",
      "source": [
        "zipfile.ZipFile('/content/drive/MyDrive/Spark_alura_course_5/aula01.zip', 'r').extractall('/content/drive/MyDrive/Spark_alura_course_5')"
      ],
      "metadata": {
        "id": "xsroR3IwoqnX"
      },
      "execution_count": null,
      "outputs": []
    },
    {
      "cell_type": "code",
      "source": [
        "data = spark.read.json('/content/drive/MyDrive/Spark_alura_course_5/aula01/imoveis.json')"
      ],
      "metadata": {
        "id": "AxoYhsDVm2gl"
      },
      "execution_count": null,
      "outputs": []
    },
    {
      "cell_type": "code",
      "source": [
        "data.show(truncate=False)"
      ],
      "metadata": {
        "colab": {
          "base_uri": "https://localhost:8080/"
        },
        "id": "ey24CfU3pU6Y",
        "outputId": "3c05fb63-28df-4b8f-949b-c103d4dea51a"
      },
      "execution_count": null,
      "outputs": [
        {
          "output_type": "stream",
          "name": "stdout",
          "text": [
            "+--------------------------+-----------------------------------------------------------------------------------------------------------------------------------------------------------------+\n",
            "|ident                     |listing                                                                                                                                                          |\n",
            "+--------------------------+-----------------------------------------------------------------------------------------------------------------------------------------------------------------+\n",
            "|{775564-BOJSMVON, Website}|{{Rio de Janeiro, {-22.909429, -43.413557}, Taquara, Zona Oeste}, {0, 0, 0, 1, 0, 62, 0, 0, 62}, {45000, {150, 0}}, {Outros, Residencial}}                       |\n",
            "|{660895-AUENKNYY, Website}|{{Rio de Janeiro, {-22.869698, -43.509141}, Santíssimo, Zona Oeste}, {1, 2, 0, 1, 0, 0, 0, 0, 44}, {45000, {120, 0}}, {Apartamento, Residencial}}                |\n",
            "|{751522-JESYFEQL, Website}|{{Rio de Janeiro, {-22.986927, -43.646786}, Pedra de Guaratiba, Zona Oeste}, {0, 0, 0, 0, 0, 132, 0, 0, 132}, {50000, {100, 0}}, {Outros, Residencial}}          |\n",
            "|{714052-GAAEWYKS, Website}|{{Rio de Janeiro, {-22.881977, -43.330818}, Cascadura, Zona Norte}, {1, 0, 0, 0, 0, 32, 3, 0, 32}, {45000, {468, 346}}, {Outros, Comercial}}                     |\n",
            "|{568886-ZIBFOMCC, Website}|{{Rio de Janeiro, {-23.027653, -43.480742}, Recreio dos Bandeirantes, Zona Oeste}, {2, 3, 3, 1, 1, 0, 2, 4, 60}, {50000, {400, 120}}, {Apartamento, Residencial}}|\n",
            "|{526755-OBLTYTEN, Website}|{{Rio de Janeiro, {-22.966059, -43.571183}, Guaratiba, Zona Oeste}, {0, 0, 0, 0, 0, 200, 0, 0, 200}, {50000, {0, null}}, {Outros, Residencial}}                  |\n",
            "|{593569-CJLMNFGW, Website}|{{Rio de Janeiro, {-22.939028, -43.3453}, Freguesia (Jacarepaguá), Zona Oeste}, {1, 0, 0, 0, 0, 25, 2, 0, 25}, {50000, {801, 211}}, {Outros, Comercial}}         |\n",
            "|{989181-RYJOLMCU, Website}|{{Rio de Janeiro, {-22.841509, -43.278855}, Penha, Zona Norte}, {1, 0, 0, 0, 0, 23, 0, 0, 23}, {50000, {230, null}}, {Outros, Comercial}}                        |\n",
            "|{145372-EZKAKSWM, Website}|{{Rio de Janeiro, {-22.835609, -43.392253}, Ricardo de Albuquerque, Zona Norte}, {0, 0, 0, 0, 0, 60, 0, 0, 60}, {45000, {null, null}}, {Outros, Comercial}}      |\n",
            "|{792086-NWNQTDYL, Website}|{{Rio de Janeiro, {-22.885306, -43.253044}, Jacarezinho, Zona Norte}, {1, 1, 0, 1, 0, 35, 0, 0, 33}, {45336, {0, 0}}, {Apartamento, Residencial}}                |\n",
            "|{339622-MNZGLKTZ, Website}|{{Rio de Janeiro, {-22.990425, -43.635505}, Guaratiba, Zona Oeste}, {0, 0, 0, 0, 0, 120, 0, 0, 120}, {45000, {0, 0}}, {Outros, Residencial}}                     |\n",
            "|{952338-SVULQMXR, Website}|{{Rio de Janeiro, {-22.877982, -43.651456}, Santa Cruz, Zona Oeste}, {0, 0, 0, 0, 0, 468, 0, 0, 468}, {45000, {0, 0}}, {Outros, Residencial}}                    |\n",
            "|{570439-LDICQOXZ, Website}|{{Rio de Janeiro, {-22.998183, -43.504337}, Vargem Grande, Zona Oeste}, {0, 0, 0, 0, 0, 180, 1, 0, 180}, {50000, {0, 0}}, {Outros, Residencial}}                 |\n",
            "|{684023-YTBNKLLO, Website}|{{Rio de Janeiro, {-22.843794, -43.512464}, Bangu, Zona Oeste}, {0, 0, 0, 0, 0, 128, 0, 0, 128}, {50000, {0, 0}}, {Outros, Residencial}}                         |\n",
            "|{629412-VKUMMAVR, Website}|{{Rio de Janeiro, {-22.91077, -43.37182}, Tanque, Zona Oeste}, {0, 0, 0, 0, 0, 82, 1, 0, 82}, {45000, {300, 0}}, {Outros, Residencial}}                          |\n",
            "|{041590-HMJIRKDX, Website}|{{Rio de Janeiro, {-22.910099, -43.17797}, Centro, Zona Central}, {0, 0, 0, 1, 0, 5, 0, 0, 5}, {45000, {0, 0}}, {Outros, Comercial}}                             |\n",
            "|{870098-XTRYJAGY, Website}|{{Rio de Janeiro, {-22.867219, -43.335067}, Madureira, Zona Norte}, {1, 0, 0, 0, 0, 350, 0, 0, 350}, {50000, {0, 1600}}, {Outros, Comercial}}                    |\n",
            "|{951104-MACIAPIS, Website}|{{Rio de Janeiro, {-22.897014, -43.201575}, Santo Cristo, Zona Central}, {2, 3, 20, 1, 1, 0, 20, 19, 70}, {45000, {350, 120}}, {Apartamento, Residencial}}       |\n",
            "|{375665-GHMFEZXX, Website}|{{Rio de Janeiro, {-22.902419, -43.20952}, Santo Cristo, Zona Central}, {2, 3, 20, 1, 1, 0, 20, 19, 70}, {50000, {350, 120}}, {Apartamento, Residencial}}        |\n",
            "|{441711-LRTWHRUA, Website}|{{Rio de Janeiro, {-22.989852, -43.623097}, Pedra de Guaratiba, Zona Oeste}, {1, 1, 0, 0, 0, 45, 2, 0, 37}, {50000, {0, 0}}, {Apartamento, Residencial}}         |\n",
            "+--------------------------+-----------------------------------------------------------------------------------------------------------------------------------------------------------------+\n",
            "only showing top 20 rows\n",
            "\n"
          ]
        }
      ]
    },
    {
      "cell_type": "code",
      "source": [
        "data.count()"
      ],
      "metadata": {
        "colab": {
          "base_uri": "https://localhost:8080/"
        },
        "id": "Ae_aUSL2pU5K",
        "outputId": "de2b49b4-9fad-496c-d674-58b3e8bcf14e"
      },
      "execution_count": null,
      "outputs": [
        {
          "output_type": "execute_result",
          "data": {
            "text/plain": [
              "73615"
            ]
          },
          "metadata": {},
          "execution_count": 9
        }
      ]
    },
    {
      "cell_type": "markdown",
      "source": [
        "# Features selection"
      ],
      "metadata": {
        "id": "rdN17FuoqhK7"
      }
    },
    {
      "cell_type": "code",
      "source": [
        "data.printSchema()"
      ],
      "metadata": {
        "colab": {
          "base_uri": "https://localhost:8080/"
        },
        "id": "Jpp1ueEDqQV5",
        "outputId": "0dc93bb7-b172-4d82-a208-909f1660bd8b"
      },
      "execution_count": null,
      "outputs": [
        {
          "output_type": "stream",
          "name": "stdout",
          "text": [
            "root\n",
            " |-- ident: struct (nullable = true)\n",
            " |    |-- customerID: string (nullable = true)\n",
            " |    |-- source: string (nullable = true)\n",
            " |-- listing: struct (nullable = true)\n",
            " |    |-- address: struct (nullable = true)\n",
            " |    |    |-- city: string (nullable = true)\n",
            " |    |    |-- location: struct (nullable = true)\n",
            " |    |    |    |-- lat: double (nullable = true)\n",
            " |    |    |    |-- lon: double (nullable = true)\n",
            " |    |    |-- neighborhood: string (nullable = true)\n",
            " |    |    |-- zone: string (nullable = true)\n",
            " |    |-- features: struct (nullable = true)\n",
            " |    |    |-- bathrooms: long (nullable = true)\n",
            " |    |    |-- bedrooms: long (nullable = true)\n",
            " |    |    |-- floors: long (nullable = true)\n",
            " |    |    |-- parkingSpaces: long (nullable = true)\n",
            " |    |    |-- suites: long (nullable = true)\n",
            " |    |    |-- totalAreas: string (nullable = true)\n",
            " |    |    |-- unitFloor: long (nullable = true)\n",
            " |    |    |-- unitsOnTheFloor: long (nullable = true)\n",
            " |    |    |-- usableAreas: string (nullable = true)\n",
            " |    |-- prices: struct (nullable = true)\n",
            " |    |    |-- price: string (nullable = true)\n",
            " |    |    |-- tax: struct (nullable = true)\n",
            " |    |    |    |-- condo: string (nullable = true)\n",
            " |    |    |    |-- iptu: string (nullable = true)\n",
            " |    |-- types: struct (nullable = true)\n",
            " |    |    |-- unit: string (nullable = true)\n",
            " |    |    |-- usage: string (nullable = true)\n",
            "\n"
          ]
        }
      ]
    },
    {
      "cell_type": "code",
      "source": [
        "data \\\n",
        "  .select('ident.customerID', 'listing.*') \\\n",
        "  .show(truncate=False)"
      ],
      "metadata": {
        "colab": {
          "base_uri": "https://localhost:8080/"
        },
        "id": "QE-Plk24vaVn",
        "outputId": "e5c9465e-2bce-49a8-9e1b-e2c5f33c86c5"
      },
      "execution_count": null,
      "outputs": [
        {
          "output_type": "stream",
          "name": "stdout",
          "text": [
            "+---------------+--------------------------------------------------------------------------------+-------------------------------+---------------------+--------------------------+\n",
            "|customerID     |address                                                                         |features                       |prices               |types                     |\n",
            "+---------------+--------------------------------------------------------------------------------+-------------------------------+---------------------+--------------------------+\n",
            "|775564-BOJSMVON|{Rio de Janeiro, {-22.909429, -43.413557}, Taquara, Zona Oeste}                 |{0, 0, 0, 1, 0, 62, 0, 0, 62}  |{45000, {150, 0}}    |{Outros, Residencial}     |\n",
            "|660895-AUENKNYY|{Rio de Janeiro, {-22.869698, -43.509141}, Santíssimo, Zona Oeste}              |{1, 2, 0, 1, 0, 0, 0, 0, 44}   |{45000, {120, 0}}    |{Apartamento, Residencial}|\n",
            "|751522-JESYFEQL|{Rio de Janeiro, {-22.986927, -43.646786}, Pedra de Guaratiba, Zona Oeste}      |{0, 0, 0, 0, 0, 132, 0, 0, 132}|{50000, {100, 0}}    |{Outros, Residencial}     |\n",
            "|714052-GAAEWYKS|{Rio de Janeiro, {-22.881977, -43.330818}, Cascadura, Zona Norte}               |{1, 0, 0, 0, 0, 32, 3, 0, 32}  |{45000, {468, 346}}  |{Outros, Comercial}       |\n",
            "|568886-ZIBFOMCC|{Rio de Janeiro, {-23.027653, -43.480742}, Recreio dos Bandeirantes, Zona Oeste}|{2, 3, 3, 1, 1, 0, 2, 4, 60}   |{50000, {400, 120}}  |{Apartamento, Residencial}|\n",
            "|526755-OBLTYTEN|{Rio de Janeiro, {-22.966059, -43.571183}, Guaratiba, Zona Oeste}               |{0, 0, 0, 0, 0, 200, 0, 0, 200}|{50000, {0, null}}   |{Outros, Residencial}     |\n",
            "|593569-CJLMNFGW|{Rio de Janeiro, {-22.939028, -43.3453}, Freguesia (Jacarepaguá), Zona Oeste}   |{1, 0, 0, 0, 0, 25, 2, 0, 25}  |{50000, {801, 211}}  |{Outros, Comercial}       |\n",
            "|989181-RYJOLMCU|{Rio de Janeiro, {-22.841509, -43.278855}, Penha, Zona Norte}                   |{1, 0, 0, 0, 0, 23, 0, 0, 23}  |{50000, {230, null}} |{Outros, Comercial}       |\n",
            "|145372-EZKAKSWM|{Rio de Janeiro, {-22.835609, -43.392253}, Ricardo de Albuquerque, Zona Norte}  |{0, 0, 0, 0, 0, 60, 0, 0, 60}  |{45000, {null, null}}|{Outros, Comercial}       |\n",
            "|792086-NWNQTDYL|{Rio de Janeiro, {-22.885306, -43.253044}, Jacarezinho, Zona Norte}             |{1, 1, 0, 1, 0, 35, 0, 0, 33}  |{45336, {0, 0}}      |{Apartamento, Residencial}|\n",
            "|339622-MNZGLKTZ|{Rio de Janeiro, {-22.990425, -43.635505}, Guaratiba, Zona Oeste}               |{0, 0, 0, 0, 0, 120, 0, 0, 120}|{45000, {0, 0}}      |{Outros, Residencial}     |\n",
            "|952338-SVULQMXR|{Rio de Janeiro, {-22.877982, -43.651456}, Santa Cruz, Zona Oeste}              |{0, 0, 0, 0, 0, 468, 0, 0, 468}|{45000, {0, 0}}      |{Outros, Residencial}     |\n",
            "|570439-LDICQOXZ|{Rio de Janeiro, {-22.998183, -43.504337}, Vargem Grande, Zona Oeste}           |{0, 0, 0, 0, 0, 180, 1, 0, 180}|{50000, {0, 0}}      |{Outros, Residencial}     |\n",
            "|684023-YTBNKLLO|{Rio de Janeiro, {-22.843794, -43.512464}, Bangu, Zona Oeste}                   |{0, 0, 0, 0, 0, 128, 0, 0, 128}|{50000, {0, 0}}      |{Outros, Residencial}     |\n",
            "|629412-VKUMMAVR|{Rio de Janeiro, {-22.91077, -43.37182}, Tanque, Zona Oeste}                    |{0, 0, 0, 0, 0, 82, 1, 0, 82}  |{45000, {300, 0}}    |{Outros, Residencial}     |\n",
            "|041590-HMJIRKDX|{Rio de Janeiro, {-22.910099, -43.17797}, Centro, Zona Central}                 |{0, 0, 0, 1, 0, 5, 0, 0, 5}    |{45000, {0, 0}}      |{Outros, Comercial}       |\n",
            "|870098-XTRYJAGY|{Rio de Janeiro, {-22.867219, -43.335067}, Madureira, Zona Norte}               |{1, 0, 0, 0, 0, 350, 0, 0, 350}|{50000, {0, 1600}}   |{Outros, Comercial}       |\n",
            "|951104-MACIAPIS|{Rio de Janeiro, {-22.897014, -43.201575}, Santo Cristo, Zona Central}          |{2, 3, 20, 1, 1, 0, 20, 19, 70}|{45000, {350, 120}}  |{Apartamento, Residencial}|\n",
            "|375665-GHMFEZXX|{Rio de Janeiro, {-22.902419, -43.20952}, Santo Cristo, Zona Central}           |{2, 3, 20, 1, 1, 0, 20, 19, 70}|{50000, {350, 120}}  |{Apartamento, Residencial}|\n",
            "|441711-LRTWHRUA|{Rio de Janeiro, {-22.989852, -43.623097}, Pedra de Guaratiba, Zona Oeste}      |{1, 1, 0, 0, 0, 45, 2, 0, 37}  |{50000, {0, 0}}      |{Apartamento, Residencial}|\n",
            "+---------------+--------------------------------------------------------------------------------+-------------------------------+---------------------+--------------------------+\n",
            "only showing top 20 rows\n",
            "\n"
          ]
        }
      ]
    },
    {
      "cell_type": "code",
      "source": [
        "data \\\n",
        "  .select('ident.customerID', 'listing.types.*', 'listing.features.*', 'listing.address.*', 'listing.prices.price', 'listing.prices.tax.*') \\\n",
        "  .show(truncate=False)"
      ],
      "metadata": {
        "colab": {
          "base_uri": "https://localhost:8080/"
        },
        "id": "rXziZQJHwCDV",
        "outputId": "56c96f4a-ec87-4838-de7e-8069610e4832"
      },
      "execution_count": null,
      "outputs": [
        {
          "output_type": "stream",
          "name": "stdout",
          "text": [
            "+---------------+-----------+-----------+---------+--------+------+-------------+------+----------+---------+---------------+-----------+--------------+------------------------+------------------------+------------+-----+-----+----+\n",
            "|customerID     |unit       |usage      |bathrooms|bedrooms|floors|parkingSpaces|suites|totalAreas|unitFloor|unitsOnTheFloor|usableAreas|city          |location                |neighborhood            |zone        |price|condo|iptu|\n",
            "+---------------+-----------+-----------+---------+--------+------+-------------+------+----------+---------+---------------+-----------+--------------+------------------------+------------------------+------------+-----+-----+----+\n",
            "|775564-BOJSMVON|Outros     |Residencial|0        |0       |0     |1            |0     |62        |0        |0              |62         |Rio de Janeiro|{-22.909429, -43.413557}|Taquara                 |Zona Oeste  |45000|150  |0   |\n",
            "|660895-AUENKNYY|Apartamento|Residencial|1        |2       |0     |1            |0     |0         |0        |0              |44         |Rio de Janeiro|{-22.869698, -43.509141}|Santíssimo              |Zona Oeste  |45000|120  |0   |\n",
            "|751522-JESYFEQL|Outros     |Residencial|0        |0       |0     |0            |0     |132       |0        |0              |132        |Rio de Janeiro|{-22.986927, -43.646786}|Pedra de Guaratiba      |Zona Oeste  |50000|100  |0   |\n",
            "|714052-GAAEWYKS|Outros     |Comercial  |1        |0       |0     |0            |0     |32        |3        |0              |32         |Rio de Janeiro|{-22.881977, -43.330818}|Cascadura               |Zona Norte  |45000|468  |346 |\n",
            "|568886-ZIBFOMCC|Apartamento|Residencial|2        |3       |3     |1            |1     |0         |2        |4              |60         |Rio de Janeiro|{-23.027653, -43.480742}|Recreio dos Bandeirantes|Zona Oeste  |50000|400  |120 |\n",
            "|526755-OBLTYTEN|Outros     |Residencial|0        |0       |0     |0            |0     |200       |0        |0              |200        |Rio de Janeiro|{-22.966059, -43.571183}|Guaratiba               |Zona Oeste  |50000|0    |null|\n",
            "|593569-CJLMNFGW|Outros     |Comercial  |1        |0       |0     |0            |0     |25        |2        |0              |25         |Rio de Janeiro|{-22.939028, -43.3453}  |Freguesia (Jacarepaguá) |Zona Oeste  |50000|801  |211 |\n",
            "|989181-RYJOLMCU|Outros     |Comercial  |1        |0       |0     |0            |0     |23        |0        |0              |23         |Rio de Janeiro|{-22.841509, -43.278855}|Penha                   |Zona Norte  |50000|230  |null|\n",
            "|145372-EZKAKSWM|Outros     |Comercial  |0        |0       |0     |0            |0     |60        |0        |0              |60         |Rio de Janeiro|{-22.835609, -43.392253}|Ricardo de Albuquerque  |Zona Norte  |45000|null |null|\n",
            "|792086-NWNQTDYL|Apartamento|Residencial|1        |1       |0     |1            |0     |35        |0        |0              |33         |Rio de Janeiro|{-22.885306, -43.253044}|Jacarezinho             |Zona Norte  |45336|0    |0   |\n",
            "|339622-MNZGLKTZ|Outros     |Residencial|0        |0       |0     |0            |0     |120       |0        |0              |120        |Rio de Janeiro|{-22.990425, -43.635505}|Guaratiba               |Zona Oeste  |45000|0    |0   |\n",
            "|952338-SVULQMXR|Outros     |Residencial|0        |0       |0     |0            |0     |468       |0        |0              |468        |Rio de Janeiro|{-22.877982, -43.651456}|Santa Cruz              |Zona Oeste  |45000|0    |0   |\n",
            "|570439-LDICQOXZ|Outros     |Residencial|0        |0       |0     |0            |0     |180       |1        |0              |180        |Rio de Janeiro|{-22.998183, -43.504337}|Vargem Grande           |Zona Oeste  |50000|0    |0   |\n",
            "|684023-YTBNKLLO|Outros     |Residencial|0        |0       |0     |0            |0     |128       |0        |0              |128        |Rio de Janeiro|{-22.843794, -43.512464}|Bangu                   |Zona Oeste  |50000|0    |0   |\n",
            "|629412-VKUMMAVR|Outros     |Residencial|0        |0       |0     |0            |0     |82        |1        |0              |82         |Rio de Janeiro|{-22.91077, -43.37182}  |Tanque                  |Zona Oeste  |45000|300  |0   |\n",
            "|041590-HMJIRKDX|Outros     |Comercial  |0        |0       |0     |1            |0     |5         |0        |0              |5          |Rio de Janeiro|{-22.910099, -43.17797} |Centro                  |Zona Central|45000|0    |0   |\n",
            "|870098-XTRYJAGY|Outros     |Comercial  |1        |0       |0     |0            |0     |350       |0        |0              |350        |Rio de Janeiro|{-22.867219, -43.335067}|Madureira               |Zona Norte  |50000|0    |1600|\n",
            "|951104-MACIAPIS|Apartamento|Residencial|2        |3       |20    |1            |1     |0         |20       |19             |70         |Rio de Janeiro|{-22.897014, -43.201575}|Santo Cristo            |Zona Central|45000|350  |120 |\n",
            "|375665-GHMFEZXX|Apartamento|Residencial|2        |3       |20    |1            |1     |0         |20       |19             |70         |Rio de Janeiro|{-22.902419, -43.20952} |Santo Cristo            |Zona Central|50000|350  |120 |\n",
            "|441711-LRTWHRUA|Apartamento|Residencial|1        |1       |0     |0            |0     |45        |2        |0              |37         |Rio de Janeiro|{-22.989852, -43.623097}|Pedra de Guaratiba      |Zona Oeste  |50000|0    |0   |\n",
            "+---------------+-----------+-----------+---------+--------+------+-------------+------+----------+---------+---------------+-----------+--------------+------------------------+------------------------+------------+-----+-----+----+\n",
            "only showing top 20 rows\n",
            "\n"
          ]
        }
      ]
    },
    {
      "cell_type": "code",
      "source": [
        "data \\\n",
        "  .select('ident.customerID', 'listing.types.*', 'listing.features.*', 'listing.address.*', 'listing.prices.price', 'listing.prices.tax.*') \\\n",
        "  .drop('city', 'location', 'totalAreas') \\\n",
        "  .show(truncate=False)"
      ],
      "metadata": {
        "colab": {
          "base_uri": "https://localhost:8080/"
        },
        "id": "UU8ZqTDvwSfX",
        "outputId": "5b3e9738-f1fe-4a14-e520-14bb9ac031a0"
      },
      "execution_count": null,
      "outputs": [
        {
          "output_type": "stream",
          "name": "stdout",
          "text": [
            "+---------------+-----------+-----------+---------+--------+------+-------------+------+---------+---------------+-----------+------------------------+------------+-----+-----+----+\n",
            "|customerID     |unit       |usage      |bathrooms|bedrooms|floors|parkingSpaces|suites|unitFloor|unitsOnTheFloor|usableAreas|neighborhood            |zone        |price|condo|iptu|\n",
            "+---------------+-----------+-----------+---------+--------+------+-------------+------+---------+---------------+-----------+------------------------+------------+-----+-----+----+\n",
            "|775564-BOJSMVON|Outros     |Residencial|0        |0       |0     |1            |0     |0        |0              |62         |Taquara                 |Zona Oeste  |45000|150  |0   |\n",
            "|660895-AUENKNYY|Apartamento|Residencial|1        |2       |0     |1            |0     |0        |0              |44         |Santíssimo              |Zona Oeste  |45000|120  |0   |\n",
            "|751522-JESYFEQL|Outros     |Residencial|0        |0       |0     |0            |0     |0        |0              |132        |Pedra de Guaratiba      |Zona Oeste  |50000|100  |0   |\n",
            "|714052-GAAEWYKS|Outros     |Comercial  |1        |0       |0     |0            |0     |3        |0              |32         |Cascadura               |Zona Norte  |45000|468  |346 |\n",
            "|568886-ZIBFOMCC|Apartamento|Residencial|2        |3       |3     |1            |1     |2        |4              |60         |Recreio dos Bandeirantes|Zona Oeste  |50000|400  |120 |\n",
            "|526755-OBLTYTEN|Outros     |Residencial|0        |0       |0     |0            |0     |0        |0              |200        |Guaratiba               |Zona Oeste  |50000|0    |null|\n",
            "|593569-CJLMNFGW|Outros     |Comercial  |1        |0       |0     |0            |0     |2        |0              |25         |Freguesia (Jacarepaguá) |Zona Oeste  |50000|801  |211 |\n",
            "|989181-RYJOLMCU|Outros     |Comercial  |1        |0       |0     |0            |0     |0        |0              |23         |Penha                   |Zona Norte  |50000|230  |null|\n",
            "|145372-EZKAKSWM|Outros     |Comercial  |0        |0       |0     |0            |0     |0        |0              |60         |Ricardo de Albuquerque  |Zona Norte  |45000|null |null|\n",
            "|792086-NWNQTDYL|Apartamento|Residencial|1        |1       |0     |1            |0     |0        |0              |33         |Jacarezinho             |Zona Norte  |45336|0    |0   |\n",
            "|339622-MNZGLKTZ|Outros     |Residencial|0        |0       |0     |0            |0     |0        |0              |120        |Guaratiba               |Zona Oeste  |45000|0    |0   |\n",
            "|952338-SVULQMXR|Outros     |Residencial|0        |0       |0     |0            |0     |0        |0              |468        |Santa Cruz              |Zona Oeste  |45000|0    |0   |\n",
            "|570439-LDICQOXZ|Outros     |Residencial|0        |0       |0     |0            |0     |1        |0              |180        |Vargem Grande           |Zona Oeste  |50000|0    |0   |\n",
            "|684023-YTBNKLLO|Outros     |Residencial|0        |0       |0     |0            |0     |0        |0              |128        |Bangu                   |Zona Oeste  |50000|0    |0   |\n",
            "|629412-VKUMMAVR|Outros     |Residencial|0        |0       |0     |0            |0     |1        |0              |82         |Tanque                  |Zona Oeste  |45000|300  |0   |\n",
            "|041590-HMJIRKDX|Outros     |Comercial  |0        |0       |0     |1            |0     |0        |0              |5          |Centro                  |Zona Central|45000|0    |0   |\n",
            "|870098-XTRYJAGY|Outros     |Comercial  |1        |0       |0     |0            |0     |0        |0              |350        |Madureira               |Zona Norte  |50000|0    |1600|\n",
            "|951104-MACIAPIS|Apartamento|Residencial|2        |3       |20    |1            |1     |20       |19             |70         |Santo Cristo            |Zona Central|45000|350  |120 |\n",
            "|375665-GHMFEZXX|Apartamento|Residencial|2        |3       |20    |1            |1     |20       |19             |70         |Santo Cristo            |Zona Central|50000|350  |120 |\n",
            "|441711-LRTWHRUA|Apartamento|Residencial|1        |1       |0     |0            |0     |2        |0              |37         |Pedra de Guaratiba      |Zona Oeste  |50000|0    |0   |\n",
            "+---------------+-----------+-----------+---------+--------+------+-------------+------+---------+---------------+-----------+------------------------+------------+-----+-----+----+\n",
            "only showing top 20 rows\n",
            "\n"
          ]
        }
      ]
    },
    {
      "cell_type": "code",
      "source": [
        "data_set = data \\\n",
        "  .select('ident.customerID', 'listing.types.*', 'listing.features.*', 'listing.address.*', 'listing.prices.price', 'listing.prices.tax.*') \\\n",
        "  .drop('city', 'location', 'totalAreas')"
      ],
      "metadata": {
        "id": "IETDUsqOxK4T"
      },
      "execution_count": null,
      "outputs": []
    },
    {
      "cell_type": "code",
      "source": [
        "data_set.show()"
      ],
      "metadata": {
        "colab": {
          "base_uri": "https://localhost:8080/"
        },
        "id": "xA4F1lllEDmg",
        "outputId": "823d763e-da50-477f-957f-25b477929380"
      },
      "execution_count": null,
      "outputs": [
        {
          "output_type": "stream",
          "name": "stdout",
          "text": [
            "+---------------+-----------+-----------+---------+--------+------+-------------+------+---------+---------------+-----------+--------------------+------------+-----+-----+----+\n",
            "|     customerID|       unit|      usage|bathrooms|bedrooms|floors|parkingSpaces|suites|unitFloor|unitsOnTheFloor|usableAreas|        neighborhood|        zone|price|condo|iptu|\n",
            "+---------------+-----------+-----------+---------+--------+------+-------------+------+---------+---------------+-----------+--------------------+------------+-----+-----+----+\n",
            "|775564-BOJSMVON|     Outros|Residencial|        0|       0|     0|            1|     0|        0|              0|         62|             Taquara|  Zona Oeste|45000|  150|   0|\n",
            "|660895-AUENKNYY|Apartamento|Residencial|        1|       2|     0|            1|     0|        0|              0|         44|          Santíssimo|  Zona Oeste|45000|  120|   0|\n",
            "|751522-JESYFEQL|     Outros|Residencial|        0|       0|     0|            0|     0|        0|              0|        132|  Pedra de Guaratiba|  Zona Oeste|50000|  100|   0|\n",
            "|714052-GAAEWYKS|     Outros|  Comercial|        1|       0|     0|            0|     0|        3|              0|         32|           Cascadura|  Zona Norte|45000|  468| 346|\n",
            "|568886-ZIBFOMCC|Apartamento|Residencial|        2|       3|     3|            1|     1|        2|              4|         60|Recreio dos Bande...|  Zona Oeste|50000|  400| 120|\n",
            "|526755-OBLTYTEN|     Outros|Residencial|        0|       0|     0|            0|     0|        0|              0|        200|           Guaratiba|  Zona Oeste|50000|    0|null|\n",
            "|593569-CJLMNFGW|     Outros|  Comercial|        1|       0|     0|            0|     0|        2|              0|         25|Freguesia (Jacare...|  Zona Oeste|50000|  801| 211|\n",
            "|989181-RYJOLMCU|     Outros|  Comercial|        1|       0|     0|            0|     0|        0|              0|         23|               Penha|  Zona Norte|50000|  230|null|\n",
            "|145372-EZKAKSWM|     Outros|  Comercial|        0|       0|     0|            0|     0|        0|              0|         60|Ricardo de Albuqu...|  Zona Norte|45000| null|null|\n",
            "|792086-NWNQTDYL|Apartamento|Residencial|        1|       1|     0|            1|     0|        0|              0|         33|         Jacarezinho|  Zona Norte|45336|    0|   0|\n",
            "|339622-MNZGLKTZ|     Outros|Residencial|        0|       0|     0|            0|     0|        0|              0|        120|           Guaratiba|  Zona Oeste|45000|    0|   0|\n",
            "|952338-SVULQMXR|     Outros|Residencial|        0|       0|     0|            0|     0|        0|              0|        468|          Santa Cruz|  Zona Oeste|45000|    0|   0|\n",
            "|570439-LDICQOXZ|     Outros|Residencial|        0|       0|     0|            0|     0|        1|              0|        180|       Vargem Grande|  Zona Oeste|50000|    0|   0|\n",
            "|684023-YTBNKLLO|     Outros|Residencial|        0|       0|     0|            0|     0|        0|              0|        128|               Bangu|  Zona Oeste|50000|    0|   0|\n",
            "|629412-VKUMMAVR|     Outros|Residencial|        0|       0|     0|            0|     0|        1|              0|         82|              Tanque|  Zona Oeste|45000|  300|   0|\n",
            "|041590-HMJIRKDX|     Outros|  Comercial|        0|       0|     0|            1|     0|        0|              0|          5|              Centro|Zona Central|45000|    0|   0|\n",
            "|870098-XTRYJAGY|     Outros|  Comercial|        1|       0|     0|            0|     0|        0|              0|        350|           Madureira|  Zona Norte|50000|    0|1600|\n",
            "|951104-MACIAPIS|Apartamento|Residencial|        2|       3|    20|            1|     1|       20|             19|         70|        Santo Cristo|Zona Central|45000|  350| 120|\n",
            "|375665-GHMFEZXX|Apartamento|Residencial|        2|       3|    20|            1|     1|       20|             19|         70|        Santo Cristo|Zona Central|50000|  350| 120|\n",
            "|441711-LRTWHRUA|Apartamento|Residencial|        1|       1|     0|            0|     0|        2|              0|         37|  Pedra de Guaratiba|  Zona Oeste|50000|    0|   0|\n",
            "+---------------+-----------+-----------+---------+--------+------+-------------+------+---------+---------------+-----------+--------------------+------------+-----+-----+----+\n",
            "only showing top 20 rows\n",
            "\n"
          ]
        }
      ]
    },
    {
      "cell_type": "markdown",
      "source": [
        "# Data processing"
      ],
      "metadata": {
        "id": "PfRaRFKlxo_J"
      }
    },
    {
      "cell_type": "code",
      "source": [
        "data_set.printSchema()"
      ],
      "metadata": {
        "colab": {
          "base_uri": "https://localhost:8080/"
        },
        "id": "baveJNPnxqQA",
        "outputId": "5ac787c6-6615-4340-bd0d-da5a4301fd05"
      },
      "execution_count": null,
      "outputs": [
        {
          "output_type": "stream",
          "name": "stdout",
          "text": [
            "root\n",
            " |-- customerID: string (nullable = true)\n",
            " |-- unit: string (nullable = true)\n",
            " |-- usage: string (nullable = true)\n",
            " |-- bathrooms: long (nullable = true)\n",
            " |-- bedrooms: long (nullable = true)\n",
            " |-- floors: long (nullable = true)\n",
            " |-- parkingSpaces: long (nullable = true)\n",
            " |-- suites: long (nullable = true)\n",
            " |-- unitFloor: long (nullable = true)\n",
            " |-- unitsOnTheFloor: long (nullable = true)\n",
            " |-- usableAreas: string (nullable = true)\n",
            " |-- neighborhood: string (nullable = true)\n",
            " |-- zone: string (nullable = true)\n",
            " |-- price: string (nullable = true)\n",
            " |-- condo: string (nullable = true)\n",
            " |-- iptu: string (nullable = true)\n",
            "\n"
          ]
        }
      ]
    },
    {
      "cell_type": "code",
      "source": [
        "data_set = data_set\\\n",
        "    .withColumn('usableAreas', data_set['usableAreas'].cast(IntegerType())) \\\n",
        "    .withColumn('price', data_set['price'].cast(DoubleType())) \\\n",
        "    .withColumn('condo', data_set['condo'].cast(DoubleType())) \\\n",
        "    .withColumn('iptu', data_set['iptu'].cast(DoubleType()))\n",
        "\n",
        "data_set.printSchema()"
      ],
      "metadata": {
        "colab": {
          "base_uri": "https://localhost:8080/"
        },
        "id": "XbTplIScEhbx",
        "outputId": "4fb308f9-f1e4-4293-e8ea-88a0d0b858fe"
      },
      "execution_count": null,
      "outputs": [
        {
          "output_type": "stream",
          "name": "stdout",
          "text": [
            "root\n",
            " |-- customerID: string (nullable = true)\n",
            " |-- unit: string (nullable = true)\n",
            " |-- usage: string (nullable = true)\n",
            " |-- bathrooms: long (nullable = true)\n",
            " |-- bedrooms: long (nullable = true)\n",
            " |-- floors: long (nullable = true)\n",
            " |-- parkingSpaces: long (nullable = true)\n",
            " |-- suites: long (nullable = true)\n",
            " |-- unitFloor: long (nullable = true)\n",
            " |-- unitsOnTheFloor: long (nullable = true)\n",
            " |-- usableAreas: integer (nullable = true)\n",
            " |-- neighborhood: string (nullable = true)\n",
            " |-- zone: string (nullable = true)\n",
            " |-- price: double (nullable = true)\n",
            " |-- condo: double (nullable = true)\n",
            " |-- iptu: double (nullable = true)\n",
            "\n"
          ]
        }
      ]
    },
    {
      "cell_type": "code",
      "source": [
        "data_set \\\n",
        "  .select('zone') \\\n",
        "  .groupBy('zone') \\\n",
        "  .count() \\\n",
        "  .show()"
      ],
      "metadata": {
        "colab": {
          "base_uri": "https://localhost:8080/"
        },
        "id": "KRdAe__OC6jK",
        "outputId": "3f9615be-778f-4c10-e18a-fbe1c6a30f48"
      },
      "execution_count": null,
      "outputs": [
        {
          "output_type": "stream",
          "name": "stdout",
          "text": [
            "+------------+-----+\n",
            "|        zone|count|\n",
            "+------------+-----+\n",
            "|  Zona Norte|15191|\n",
            "|  Zona Oeste|37116|\n",
            "|Zona Central| 1921|\n",
            "|    Zona Sul|19222|\n",
            "|            |  165|\n",
            "+------------+-----+\n",
            "\n"
          ]
        }
      ]
    },
    {
      "cell_type": "code",
      "source": [
        "data_set.select([f.count(f.when(f.isnull(c) | f.isnull(c), 1)).alias(c) for c in data_set.columns]).show()"
      ],
      "metadata": {
        "colab": {
          "base_uri": "https://localhost:8080/"
        },
        "id": "AM1WCqMVxtnN",
        "outputId": "584f0e2b-ab23-41eb-f34a-4094b9ead835"
      },
      "execution_count": null,
      "outputs": [
        {
          "output_type": "stream",
          "name": "stdout",
          "text": [
            "+----------+----+-----+---------+--------+------+-------------+------+---------+---------------+-----------+------------+----+-----+-----+----+\n",
            "|customerID|unit|usage|bathrooms|bedrooms|floors|parkingSpaces|suites|unitFloor|unitsOnTheFloor|usableAreas|neighborhood|zone|price|condo|iptu|\n",
            "+----------+----+-----+---------+--------+------+-------------+------+---------+---------------+-----------+------------+----+-----+-----+----+\n",
            "|         0|   0|    0|        0|       0|     0|            0|     0|        0|              0|          0|           0|   0|    0| 6504|9116|\n",
            "+----------+----+-----+---------+--------+------+-------------+------+---------+---------------+-----------+------------+----+-----+-----+----+\n",
            "\n"
          ]
        }
      ]
    },
    {
      "cell_type": "code",
      "source": [
        "data_set \\\n",
        "  .select('*') \\\n",
        "  .na \\\n",
        "  .fill(0) \\\n",
        "  .show()"
      ],
      "metadata": {
        "colab": {
          "base_uri": "https://localhost:8080/"
        },
        "id": "0jRX8r9fDhOc",
        "outputId": "8f41fafd-ec79-47f0-d8e6-94d7adfa5c87"
      },
      "execution_count": null,
      "outputs": [
        {
          "output_type": "stream",
          "name": "stdout",
          "text": [
            "+---------------+-----------+-----------+---------+--------+------+-------------+------+---------+---------------+-----------+--------------------+------------+-------+-----+------+\n",
            "|     customerID|       unit|      usage|bathrooms|bedrooms|floors|parkingSpaces|suites|unitFloor|unitsOnTheFloor|usableAreas|        neighborhood|        zone|  price|condo|  iptu|\n",
            "+---------------+-----------+-----------+---------+--------+------+-------------+------+---------+---------------+-----------+--------------------+------------+-------+-----+------+\n",
            "|775564-BOJSMVON|     Outros|Residencial|        0|       0|     0|            1|     0|        0|              0|         62|             Taquara|  Zona Oeste|45000.0|150.0|   0.0|\n",
            "|660895-AUENKNYY|Apartamento|Residencial|        1|       2|     0|            1|     0|        0|              0|         44|          Santíssimo|  Zona Oeste|45000.0|120.0|   0.0|\n",
            "|751522-JESYFEQL|     Outros|Residencial|        0|       0|     0|            0|     0|        0|              0|        132|  Pedra de Guaratiba|  Zona Oeste|50000.0|100.0|   0.0|\n",
            "|714052-GAAEWYKS|     Outros|  Comercial|        1|       0|     0|            0|     0|        3|              0|         32|           Cascadura|  Zona Norte|45000.0|468.0| 346.0|\n",
            "|568886-ZIBFOMCC|Apartamento|Residencial|        2|       3|     3|            1|     1|        2|              4|         60|Recreio dos Bande...|  Zona Oeste|50000.0|400.0| 120.0|\n",
            "|526755-OBLTYTEN|     Outros|Residencial|        0|       0|     0|            0|     0|        0|              0|        200|           Guaratiba|  Zona Oeste|50000.0|  0.0|   0.0|\n",
            "|593569-CJLMNFGW|     Outros|  Comercial|        1|       0|     0|            0|     0|        2|              0|         25|Freguesia (Jacare...|  Zona Oeste|50000.0|801.0| 211.0|\n",
            "|989181-RYJOLMCU|     Outros|  Comercial|        1|       0|     0|            0|     0|        0|              0|         23|               Penha|  Zona Norte|50000.0|230.0|   0.0|\n",
            "|145372-EZKAKSWM|     Outros|  Comercial|        0|       0|     0|            0|     0|        0|              0|         60|Ricardo de Albuqu...|  Zona Norte|45000.0|  0.0|   0.0|\n",
            "|792086-NWNQTDYL|Apartamento|Residencial|        1|       1|     0|            1|     0|        0|              0|         33|         Jacarezinho|  Zona Norte|45336.0|  0.0|   0.0|\n",
            "|339622-MNZGLKTZ|     Outros|Residencial|        0|       0|     0|            0|     0|        0|              0|        120|           Guaratiba|  Zona Oeste|45000.0|  0.0|   0.0|\n",
            "|952338-SVULQMXR|     Outros|Residencial|        0|       0|     0|            0|     0|        0|              0|        468|          Santa Cruz|  Zona Oeste|45000.0|  0.0|   0.0|\n",
            "|570439-LDICQOXZ|     Outros|Residencial|        0|       0|     0|            0|     0|        1|              0|        180|       Vargem Grande|  Zona Oeste|50000.0|  0.0|   0.0|\n",
            "|684023-YTBNKLLO|     Outros|Residencial|        0|       0|     0|            0|     0|        0|              0|        128|               Bangu|  Zona Oeste|50000.0|  0.0|   0.0|\n",
            "|629412-VKUMMAVR|     Outros|Residencial|        0|       0|     0|            0|     0|        1|              0|         82|              Tanque|  Zona Oeste|45000.0|300.0|   0.0|\n",
            "|041590-HMJIRKDX|     Outros|  Comercial|        0|       0|     0|            1|     0|        0|              0|          5|              Centro|Zona Central|45000.0|  0.0|   0.0|\n",
            "|870098-XTRYJAGY|     Outros|  Comercial|        1|       0|     0|            0|     0|        0|              0|        350|           Madureira|  Zona Norte|50000.0|  0.0|1600.0|\n",
            "|951104-MACIAPIS|Apartamento|Residencial|        2|       3|    20|            1|     1|       20|             19|         70|        Santo Cristo|Zona Central|45000.0|350.0| 120.0|\n",
            "|375665-GHMFEZXX|Apartamento|Residencial|        2|       3|    20|            1|     1|       20|             19|         70|        Santo Cristo|Zona Central|50000.0|350.0| 120.0|\n",
            "|441711-LRTWHRUA|Apartamento|Residencial|        1|       1|     0|            0|     0|        2|              0|         37|  Pedra de Guaratiba|  Zona Oeste|50000.0|  0.0|   0.0|\n",
            "+---------------+-----------+-----------+---------+--------+------+-------------+------+---------+---------------+-----------+--------------------+------------+-------+-----+------+\n",
            "only showing top 20 rows\n",
            "\n"
          ]
        }
      ]
    },
    {
      "cell_type": "code",
      "source": [
        "data_set = data_set \\\n",
        "  .select('*') \\\n",
        "  .na \\\n",
        "  .fill(0)"
      ],
      "metadata": {
        "id": "pOTKTNQdDxMR"
      },
      "execution_count": null,
      "outputs": []
    },
    {
      "cell_type": "code",
      "source": [
        "data_set.count()"
      ],
      "metadata": {
        "colab": {
          "base_uri": "https://localhost:8080/"
        },
        "id": "4E_Z-hClFWIq",
        "outputId": "1a598d76-2af9-49c7-81cd-c7ef5941e281"
      },
      "execution_count": null,
      "outputs": [
        {
          "output_type": "execute_result",
          "data": {
            "text/plain": [
              "73615"
            ]
          },
          "metadata": {},
          "execution_count": 22
        }
      ]
    },
    {
      "cell_type": "code",
      "source": [
        "data_set.select([f.count(f.when(f.isnull(c) | f.isnull(c), 1)).alias(c) for c in data_set.columns]).show()"
      ],
      "metadata": {
        "colab": {
          "base_uri": "https://localhost:8080/"
        },
        "id": "Pl5DIJmiFgQQ",
        "outputId": "7cc27837-58d6-4213-c174-e0eb24d4ae0a"
      },
      "execution_count": null,
      "outputs": [
        {
          "output_type": "stream",
          "name": "stdout",
          "text": [
            "+----------+----+-----+---------+--------+------+-------------+------+---------+---------------+-----------+------------+----+-----+-----+----+\n",
            "|customerID|unit|usage|bathrooms|bedrooms|floors|parkingSpaces|suites|unitFloor|unitsOnTheFloor|usableAreas|neighborhood|zone|price|condo|iptu|\n",
            "+----------+----+-----+---------+--------+------+-------------+------+---------+---------------+-----------+------------+----+-----+-----+----+\n",
            "|         0|   0|    0|        0|       0|     0|            0|     0|        0|              0|          0|           0|   0|    0|    0|   0|\n",
            "+----------+----+-----+---------+--------+------+-------------+------+---------+---------------+-----------+------------+----+-----+-----+----+\n",
            "\n"
          ]
        }
      ]
    },
    {
      "cell_type": "code",
      "source": [
        "data_set = data_set \\\n",
        "    .where(f.col('zone') != '')"
      ],
      "metadata": {
        "id": "6KiTgNT6F22D"
      },
      "execution_count": null,
      "outputs": []
    },
    {
      "cell_type": "code",
      "source": [
        "data_set \\\n",
        "  .select('zone') \\\n",
        "  .groupBy('zone') \\\n",
        "  .count() \\\n",
        "  .show()"
      ],
      "metadata": {
        "colab": {
          "base_uri": "https://localhost:8080/"
        },
        "id": "_BlLO1doFs2H",
        "outputId": "eff9e124-bd14-46dd-dc84-9198c4b54724"
      },
      "execution_count": null,
      "outputs": [
        {
          "output_type": "stream",
          "name": "stdout",
          "text": [
            "+------------+-----+\n",
            "|        zone|count|\n",
            "+------------+-----+\n",
            "|  Zona Norte|15191|\n",
            "|  Zona Oeste|37116|\n",
            "|Zona Central| 1921|\n",
            "|    Zona Sul|19222|\n",
            "+------------+-----+\n",
            "\n"
          ]
        }
      ]
    },
    {
      "cell_type": "markdown",
      "source": [
        "## Dummy variables"
      ],
      "metadata": {
        "id": "E3IHVB9UCHQ4"
      }
    },
    {
      "cell_type": "code",
      "source": [
        "data_set.show(5)"
      ],
      "metadata": {
        "colab": {
          "base_uri": "https://localhost:8080/"
        },
        "id": "WlQNLwY4Az_T",
        "outputId": "73138f9d-c4b5-449a-a0be-510dd7b224f8"
      },
      "execution_count": null,
      "outputs": [
        {
          "output_type": "stream",
          "name": "stdout",
          "text": [
            "+---------------+-----------+-----------+---------+--------+------+-------------+------+---------+---------------+-----------+--------------------+----------+-------+-----+-----+\n",
            "|     customerID|       unit|      usage|bathrooms|bedrooms|floors|parkingSpaces|suites|unitFloor|unitsOnTheFloor|usableAreas|        neighborhood|      zone|  price|condo| iptu|\n",
            "+---------------+-----------+-----------+---------+--------+------+-------------+------+---------+---------------+-----------+--------------------+----------+-------+-----+-----+\n",
            "|775564-BOJSMVON|     Outros|Residencial|        0|       0|     0|            1|     0|        0|              0|         62|             Taquara|Zona Oeste|45000.0|150.0|  0.0|\n",
            "|660895-AUENKNYY|Apartamento|Residencial|        1|       2|     0|            1|     0|        0|              0|         44|          Santíssimo|Zona Oeste|45000.0|120.0|  0.0|\n",
            "|751522-JESYFEQL|     Outros|Residencial|        0|       0|     0|            0|     0|        0|              0|        132|  Pedra de Guaratiba|Zona Oeste|50000.0|100.0|  0.0|\n",
            "|714052-GAAEWYKS|     Outros|  Comercial|        1|       0|     0|            0|     0|        3|              0|         32|           Cascadura|Zona Norte|45000.0|468.0|346.0|\n",
            "|568886-ZIBFOMCC|Apartamento|Residencial|        2|       3|     3|            1|     1|        2|              4|         60|Recreio dos Bande...|Zona Oeste|50000.0|400.0|120.0|\n",
            "+---------------+-----------+-----------+---------+--------+------+-------------+------+---------+---------------+-----------+--------------------+----------+-------+-----+-----+\n",
            "only showing top 5 rows\n",
            "\n"
          ]
        }
      ]
    },
    {
      "cell_type": "code",
      "source": [
        "data_set \\\n",
        "  .groupBy('customerID') \\\n",
        "  .pivot('unit') \\\n",
        "  .agg(f.lit(1)) \\\n",
        "  .na \\\n",
        "  .fill(0) \\\n",
        "  .show()"
      ],
      "metadata": {
        "colab": {
          "base_uri": "https://localhost:8080/"
        },
        "id": "w4Z6OSxvCL9E",
        "outputId": "7687ce89-e377-48bc-943d-6a8219adbbbc"
      },
      "execution_count": null,
      "outputs": [
        {
          "output_type": "stream",
          "name": "stdout",
          "text": [
            "+---------------+-----------+----+------+\n",
            "|     customerID|Apartamento|Casa|Outros|\n",
            "+---------------+-----------+----+------+\n",
            "|062130-QKYMWGMV|          1|   0|     0|\n",
            "|630945-AEEUPRXI|          0|   1|     0|\n",
            "|994985-OZQNHQKH|          1|   0|     0|\n",
            "|494674-JWXRZIBM|          1|   0|     0|\n",
            "|458844-UJCRFSRI|          1|   0|     0|\n",
            "|155284-BRCDAOIQ|          1|   0|     0|\n",
            "|396742-DUXBHLRU|          1|   0|     0|\n",
            "|916072-ZJXARAXO|          1|   0|     0|\n",
            "|943843-BVTWWHRQ|          1|   0|     0|\n",
            "|193126-MTNIIFQN|          1|   0|     0|\n",
            "|319762-UXTTQYFS|          1|   0|     0|\n",
            "|931151-GZCTKADB|          1|   0|     0|\n",
            "|103840-OFKPFEZJ|          0|   1|     0|\n",
            "|176885-NNKZRQGM|          0|   1|     0|\n",
            "|926638-PBYRAZYR|          1|   0|     0|\n",
            "|744421-IZJWISWB|          1|   0|     0|\n",
            "|530012-TYGLQMER|          1|   0|     0|\n",
            "|209407-GTEUOVKR|          1|   0|     0|\n",
            "|289667-ZPHGFHJH|          1|   0|     0|\n",
            "|859388-EYTPMKER|          1|   0|     0|\n",
            "+---------------+-----------+----+------+\n",
            "only showing top 20 rows\n",
            "\n"
          ]
        }
      ]
    },
    {
      "cell_type": "code",
      "source": [
        "unit = data_set \\\n",
        "  .groupBy('customerID') \\\n",
        "  .pivot('unit') \\\n",
        "  .agg(f.lit(1)) \\\n",
        "  .na \\\n",
        "  .fill(0)"
      ],
      "metadata": {
        "id": "XLkd21vFEHPU"
      },
      "execution_count": null,
      "outputs": []
    },
    {
      "cell_type": "code",
      "source": [
        "data_set \\\n",
        "  .groupBy('customerID') \\\n",
        "  .pivot('zone') \\\n",
        "  .agg(f.lit(1)) \\\n",
        "  .na \\\n",
        "  .fill(0) \\\n",
        "  .show()"
      ],
      "metadata": {
        "colab": {
          "base_uri": "https://localhost:8080/"
        },
        "id": "DNFKKKZyEsQW",
        "outputId": "64647ff8-922b-40d9-e6b8-a9143c1b2cd2"
      },
      "execution_count": null,
      "outputs": [
        {
          "output_type": "stream",
          "name": "stdout",
          "text": [
            "+---------------+------------+----------+----------+--------+\n",
            "|     customerID|Zona Central|Zona Norte|Zona Oeste|Zona Sul|\n",
            "+---------------+------------+----------+----------+--------+\n",
            "|336149-TMGGYSKN|           0|         0|         1|       0|\n",
            "|846345-JYHIIHQM|           0|         1|         0|       0|\n",
            "|598128-VUMFFGPB|           0|         0|         0|       1|\n",
            "|368553-OPCVLPHJ|           0|         1|         0|       0|\n",
            "|549743-AXHKZBFK|           0|         0|         1|       0|\n",
            "|812359-OJYBIPJI|           0|         0|         0|       1|\n",
            "|660235-HZGMOQSM|           0|         0|         1|       0|\n",
            "|060113-BUDVVMLJ|           0|         0|         1|       0|\n",
            "|414450-LWZHERNQ|           0|         0|         1|       0|\n",
            "|002985-MNHDTPVG|           0|         0|         1|       0|\n",
            "|849580-WTTBUJKK|           0|         1|         0|       0|\n",
            "|869294-GMGUYRPI|           0|         0|         1|       0|\n",
            "|744421-IZJWISWB|           0|         0|         1|       0|\n",
            "|046476-NNUFIIVG|           0|         0|         1|       0|\n",
            "|626105-DOLRXIDZ|           0|         0|         0|       1|\n",
            "|865153-KBYHWCBH|           0|         0|         1|       0|\n",
            "|863519-WWCECOZT|           0|         0|         1|       0|\n",
            "|529272-BGJLJSSR|           0|         0|         1|       0|\n",
            "|521324-MVDCUJPC|           0|         0|         1|       0|\n",
            "|650698-FDRGKLNW|           0|         0|         1|       0|\n",
            "+---------------+------------+----------+----------+--------+\n",
            "only showing top 20 rows\n",
            "\n"
          ]
        }
      ]
    },
    {
      "cell_type": "code",
      "source": [
        "zone = data_set \\\n",
        "  .groupBy('customerID') \\\n",
        "  .pivot('zone') \\\n",
        "  .agg(f.lit(1)) \\\n",
        "  .na \\\n",
        "  .fill(0)"
      ],
      "metadata": {
        "id": "AHF00whbEy_f"
      },
      "execution_count": null,
      "outputs": []
    },
    {
      "cell_type": "code",
      "source": [
        "data_set = data_set \\\n",
        "  .join(unit, 'customerID', how='inner') \\\n",
        "  .join(zone, 'customerID', how='inner')"
      ],
      "metadata": {
        "id": "LJo7Ar7fFWdi"
      },
      "execution_count": null,
      "outputs": []
    },
    {
      "cell_type": "code",
      "source": [
        "data_set.show()"
      ],
      "metadata": {
        "colab": {
          "base_uri": "https://localhost:8080/"
        },
        "id": "15wmtK3PFmo0",
        "outputId": "c0472956-ffd0-412c-9d81-e9fb8e07792c"
      },
      "execution_count": null,
      "outputs": [
        {
          "output_type": "stream",
          "name": "stdout",
          "text": [
            "+---------------+-----------+-----------+---------+--------+------+-------------+------+---------+---------------+-----------+--------------------+------------+-------+-----+------+-----------+----+------+------------+----------+----------+--------+\n",
            "|     customerID|       unit|      usage|bathrooms|bedrooms|floors|parkingSpaces|suites|unitFloor|unitsOnTheFloor|usableAreas|        neighborhood|        zone|  price|condo|  iptu|Apartamento|Casa|Outros|Zona Central|Zona Norte|Zona Oeste|Zona Sul|\n",
            "+---------------+-----------+-----------+---------+--------+------+-------------+------+---------+---------------+-----------+--------------------+------------+-------+-----+------+-----------+----+------+------------+----------+----------+--------+\n",
            "|775564-BOJSMVON|     Outros|Residencial|        0|       0|     0|            1|     0|        0|              0|         62|             Taquara|  Zona Oeste|45000.0|150.0|   0.0|          0|   0|     1|           0|         0|         1|       0|\n",
            "|660895-AUENKNYY|Apartamento|Residencial|        1|       2|     0|            1|     0|        0|              0|         44|          Santíssimo|  Zona Oeste|45000.0|120.0|   0.0|          1|   0|     0|           0|         0|         1|       0|\n",
            "|751522-JESYFEQL|     Outros|Residencial|        0|       0|     0|            0|     0|        0|              0|        132|  Pedra de Guaratiba|  Zona Oeste|50000.0|100.0|   0.0|          0|   0|     1|           0|         0|         1|       0|\n",
            "|714052-GAAEWYKS|     Outros|  Comercial|        1|       0|     0|            0|     0|        3|              0|         32|           Cascadura|  Zona Norte|45000.0|468.0| 346.0|          0|   0|     1|           0|         1|         0|       0|\n",
            "|568886-ZIBFOMCC|Apartamento|Residencial|        2|       3|     3|            1|     1|        2|              4|         60|Recreio dos Bande...|  Zona Oeste|50000.0|400.0| 120.0|          1|   0|     0|           0|         0|         1|       0|\n",
            "|526755-OBLTYTEN|     Outros|Residencial|        0|       0|     0|            0|     0|        0|              0|        200|           Guaratiba|  Zona Oeste|50000.0|  0.0|   0.0|          0|   0|     1|           0|         0|         1|       0|\n",
            "|593569-CJLMNFGW|     Outros|  Comercial|        1|       0|     0|            0|     0|        2|              0|         25|Freguesia (Jacare...|  Zona Oeste|50000.0|801.0| 211.0|          0|   0|     1|           0|         0|         1|       0|\n",
            "|989181-RYJOLMCU|     Outros|  Comercial|        1|       0|     0|            0|     0|        0|              0|         23|               Penha|  Zona Norte|50000.0|230.0|   0.0|          0|   0|     1|           0|         1|         0|       0|\n",
            "|145372-EZKAKSWM|     Outros|  Comercial|        0|       0|     0|            0|     0|        0|              0|         60|Ricardo de Albuqu...|  Zona Norte|45000.0|  0.0|   0.0|          0|   0|     1|           0|         1|         0|       0|\n",
            "|792086-NWNQTDYL|Apartamento|Residencial|        1|       1|     0|            1|     0|        0|              0|         33|         Jacarezinho|  Zona Norte|45336.0|  0.0|   0.0|          1|   0|     0|           0|         1|         0|       0|\n",
            "|339622-MNZGLKTZ|     Outros|Residencial|        0|       0|     0|            0|     0|        0|              0|        120|           Guaratiba|  Zona Oeste|45000.0|  0.0|   0.0|          0|   0|     1|           0|         0|         1|       0|\n",
            "|952338-SVULQMXR|     Outros|Residencial|        0|       0|     0|            0|     0|        0|              0|        468|          Santa Cruz|  Zona Oeste|45000.0|  0.0|   0.0|          0|   0|     1|           0|         0|         1|       0|\n",
            "|570439-LDICQOXZ|     Outros|Residencial|        0|       0|     0|            0|     0|        1|              0|        180|       Vargem Grande|  Zona Oeste|50000.0|  0.0|   0.0|          0|   0|     1|           0|         0|         1|       0|\n",
            "|684023-YTBNKLLO|     Outros|Residencial|        0|       0|     0|            0|     0|        0|              0|        128|               Bangu|  Zona Oeste|50000.0|  0.0|   0.0|          0|   0|     1|           0|         0|         1|       0|\n",
            "|629412-VKUMMAVR|     Outros|Residencial|        0|       0|     0|            0|     0|        1|              0|         82|              Tanque|  Zona Oeste|45000.0|300.0|   0.0|          0|   0|     1|           0|         0|         1|       0|\n",
            "|041590-HMJIRKDX|     Outros|  Comercial|        0|       0|     0|            1|     0|        0|              0|          5|              Centro|Zona Central|45000.0|  0.0|   0.0|          0|   0|     1|           1|         0|         0|       0|\n",
            "|870098-XTRYJAGY|     Outros|  Comercial|        1|       0|     0|            0|     0|        0|              0|        350|           Madureira|  Zona Norte|50000.0|  0.0|1600.0|          0|   0|     1|           0|         1|         0|       0|\n",
            "|951104-MACIAPIS|Apartamento|Residencial|        2|       3|    20|            1|     1|       20|             19|         70|        Santo Cristo|Zona Central|45000.0|350.0| 120.0|          1|   0|     0|           1|         0|         0|       0|\n",
            "|375665-GHMFEZXX|Apartamento|Residencial|        2|       3|    20|            1|     1|       20|             19|         70|        Santo Cristo|Zona Central|50000.0|350.0| 120.0|          1|   0|     0|           1|         0|         0|       0|\n",
            "|441711-LRTWHRUA|Apartamento|Residencial|        1|       1|     0|            0|     0|        2|              0|         37|  Pedra de Guaratiba|  Zona Oeste|50000.0|  0.0|   0.0|          1|   0|     0|           0|         0|         1|       0|\n",
            "+---------------+-----------+-----------+---------+--------+------+-------------+------+---------+---------------+-----------+--------------------+------------+-------+-----+------+-----------+----+------+------------+----------+----------+--------+\n",
            "only showing top 20 rows\n",
            "\n"
          ]
        }
      ]
    },
    {
      "cell_type": "markdown",
      "source": [
        "## Data vectorizer"
      ],
      "metadata": {
        "id": "aVbIauycFv-i"
      }
    },
    {
      "cell_type": "code",
      "source": [
        "# renaming the column 'price' to 'label'. label is what we want to predict.\n",
        "data_set = data_set.withColumnRenamed('price', 'label')"
      ],
      "metadata": {
        "id": "euU_AIvoGA2M"
      },
      "execution_count": null,
      "outputs": []
    },
    {
      "cell_type": "code",
      "source": [
        "# explanation variables\n",
        "X = [\n",
        "    'bathrooms',\n",
        "    'bedrooms',\n",
        "    'floors',\n",
        "    'parkingSpaces',\n",
        "    'suites',\n",
        "    'unitFloor',\n",
        "    'unitsOnTheFloor',\n",
        "    'usableAreas',\n",
        "    'condo',\n",
        "    'iptu',\n",
        "    'Apartamento',\n",
        "    'Casa',\n",
        "    'Outros',\n",
        "    'Zona Central',\n",
        "    'Zona Norte',\n",
        "    'Zona Oeste',\n",
        "    'Zona Sul'\n",
        "]\n"
      ],
      "metadata": {
        "id": "AzmzG8oeFzHm"
      },
      "execution_count": null,
      "outputs": []
    },
    {
      "cell_type": "code",
      "source": [
        "# vectorization. Transform all columns in X to a unique column called 'features'\n",
        "assembler = VectorAssembler(inputCols=X, outputCol='features')"
      ],
      "metadata": {
        "id": "pv-zTNbmGRE-"
      },
      "execution_count": null,
      "outputs": []
    },
    {
      "cell_type": "code",
      "source": [
        "data_set.show(5)"
      ],
      "metadata": {
        "colab": {
          "base_uri": "https://localhost:8080/"
        },
        "id": "JH033eUNGn4E",
        "outputId": "00ee1e3f-1a73-4e34-e0b8-990990735433"
      },
      "execution_count": null,
      "outputs": [
        {
          "output_type": "stream",
          "name": "stdout",
          "text": [
            "+---------------+-----------+-----------+---------+--------+------+-------------+------+---------+---------------+-----------+--------------------+----------+-------+-----+-----+-----------+----+------+------------+----------+----------+--------+\n",
            "|     customerID|       unit|      usage|bathrooms|bedrooms|floors|parkingSpaces|suites|unitFloor|unitsOnTheFloor|usableAreas|        neighborhood|      zone|  label|condo| iptu|Apartamento|Casa|Outros|Zona Central|Zona Norte|Zona Oeste|Zona Sul|\n",
            "+---------------+-----------+-----------+---------+--------+------+-------------+------+---------+---------------+-----------+--------------------+----------+-------+-----+-----+-----------+----+------+------------+----------+----------+--------+\n",
            "|775564-BOJSMVON|     Outros|Residencial|        0|       0|     0|            1|     0|        0|              0|         62|             Taquara|Zona Oeste|45000.0|150.0|  0.0|          0|   0|     1|           0|         0|         1|       0|\n",
            "|660895-AUENKNYY|Apartamento|Residencial|        1|       2|     0|            1|     0|        0|              0|         44|          Santíssimo|Zona Oeste|45000.0|120.0|  0.0|          1|   0|     0|           0|         0|         1|       0|\n",
            "|751522-JESYFEQL|     Outros|Residencial|        0|       0|     0|            0|     0|        0|              0|        132|  Pedra de Guaratiba|Zona Oeste|50000.0|100.0|  0.0|          0|   0|     1|           0|         0|         1|       0|\n",
            "|714052-GAAEWYKS|     Outros|  Comercial|        1|       0|     0|            0|     0|        3|              0|         32|           Cascadura|Zona Norte|45000.0|468.0|346.0|          0|   0|     1|           0|         1|         0|       0|\n",
            "|568886-ZIBFOMCC|Apartamento|Residencial|        2|       3|     3|            1|     1|        2|              4|         60|Recreio dos Bande...|Zona Oeste|50000.0|400.0|120.0|          1|   0|     0|           0|         0|         1|       0|\n",
            "+---------------+-----------+-----------+---------+--------+------+-------------+------+---------+---------------+-----------+--------------------+----------+-------+-----+-----+-----------+----+------+------------+----------+----------+--------+\n",
            "only showing top 5 rows\n",
            "\n"
          ]
        }
      ]
    },
    {
      "cell_type": "code",
      "source": [
        "# We have created a new data_set with the features and labels.\n",
        "data_set_prep = assembler.transform(data_set).select('features', 'label')"
      ],
      "metadata": {
        "id": "OIyXvwfDGq7L"
      },
      "execution_count": null,
      "outputs": []
    },
    {
      "cell_type": "code",
      "source": [
        "data_set_prep.show(truncate=False, n=5)"
      ],
      "metadata": {
        "colab": {
          "base_uri": "https://localhost:8080/"
        },
        "id": "_DcBUFIIG5Wb",
        "outputId": "71c8e04f-e7ce-468e-e02f-a82f65d854a7"
      },
      "execution_count": null,
      "outputs": [
        {
          "output_type": "stream",
          "name": "stdout",
          "text": [
            "+--------------------------------------------------------------------------+-------+\n",
            "|features                                                                  |label  |\n",
            "+--------------------------------------------------------------------------+-------+\n",
            "|(17,[3,7,8,12,15],[1.0,62.0,150.0,1.0,1.0])                               |45000.0|\n",
            "|(17,[0,1,3,7,8,10,15],[1.0,2.0,1.0,44.0,120.0,1.0,1.0])                   |45000.0|\n",
            "|(17,[7,8,12,15],[132.0,100.0,1.0,1.0])                                    |50000.0|\n",
            "|(17,[0,5,7,8,9,12,14],[1.0,3.0,32.0,468.0,346.0,1.0,1.0])                 |45000.0|\n",
            "|[2.0,3.0,3.0,1.0,1.0,2.0,4.0,60.0,400.0,120.0,1.0,0.0,0.0,0.0,0.0,1.0,0.0]|50000.0|\n",
            "+--------------------------------------------------------------------------+-------+\n",
            "only showing top 5 rows\n",
            "\n"
          ]
        }
      ]
    },
    {
      "cell_type": "code",
      "source": [],
      "metadata": {
        "id": "NoiV034PG8yt"
      },
      "execution_count": null,
      "outputs": []
    },
    {
      "cell_type": "markdown",
      "source": [
        "# Data Exploration"
      ],
      "metadata": {
        "id": "JGoBqg1kP73H"
      }
    },
    {
      "cell_type": "code",
      "source": [
        "# collect function brings the results to into the correlation objetc\n",
        "correlation = Correlation.corr(data_set_prep, 'features').collect()\n",
        "correlation"
      ],
      "metadata": {
        "colab": {
          "base_uri": "https://localhost:8080/"
        },
        "id": "hXHmM_K6QAHs",
        "outputId": "8ddd9649-a308-43ff-b297-f883d2a15783"
      },
      "execution_count": null,
      "outputs": [
        {
          "output_type": "execute_result",
          "data": {
            "text/plain": [
              "[Row(pearson(features)=DenseMatrix(17, 17, [1.0, 0.6561, -0.0383, 0.4045, 0.738, 0.0071, -0.0985, 0.563, ..., 0.0068, 0.1782, -0.172, -0.0532, -0.0976, -0.304, -0.6017, 1.0], False))]"
            ]
          },
          "metadata": {},
          "execution_count": 39
        }
      ]
    },
    {
      "cell_type": "markdown",
      "source": [
        "We have to generate a dense array with multiple values.\n",
        "There are two main types of matrices, sparse and dense.\n",
        "In the sparse matrix, zeros are not represented. Rather than having zero, there is simply no representation. It is a null value.\n",
        "In the dense matrix, however, we have zeros represented, so where we would have null values, we have zero."
      ],
      "metadata": {
        "id": "Do_vxcUzRjwU"
      }
    },
    {
      "cell_type": "code",
      "source": [
        "# taking only the pearson correlation\n",
        "correlation = Correlation.corr(data_set_prep, 'features').collect()[0][0]\n",
        "correlation"
      ],
      "metadata": {
        "colab": {
          "base_uri": "https://localhost:8080/"
        },
        "id": "DTOLB99aQrRO",
        "outputId": "869cce6c-66a7-436d-dc39-11c42496d675"
      },
      "execution_count": null,
      "outputs": [
        {
          "output_type": "execute_result",
          "data": {
            "text/plain": [
              "DenseMatrix(17, 17, [1.0, 0.6561, -0.0383, 0.4045, 0.738, 0.0071, -0.0985, 0.563, ..., 0.0068, 0.1782, -0.172, -0.0532, -0.0976, -0.304, -0.6017, 1.0], False)"
            ]
          },
          "metadata": {},
          "execution_count": 40
        }
      ]
    },
    {
      "cell_type": "markdown",
      "source": [
        "But, it's not so easy to work with dense matrices, so let's bring this matrix to an array, which is an easier way to work"
      ],
      "metadata": {
        "id": "0BUSjqHMR5Lr"
      }
    },
    {
      "cell_type": "code",
      "source": [
        "correlation.toArray()"
      ],
      "metadata": {
        "colab": {
          "base_uri": "https://localhost:8080/"
        },
        "id": "GYQxkSrJQ906",
        "outputId": "09fba546-f09b-4090-c24d-977f15e55f34"
      },
      "execution_count": null,
      "outputs": [
        {
          "output_type": "execute_result",
          "data": {
            "text/plain": [
              "array([[ 1.00000000e+00,  6.56119803e-01, -3.82661478e-02,\n",
              "         4.04517715e-01,  7.38031473e-01,  7.08759119e-03,\n",
              "        -9.84848771e-02,  5.62957931e-01,  1.90877818e-02,\n",
              "         1.15280503e-02, -1.56533065e-01,  3.34704324e-01,\n",
              "        -1.94047652e-01, -9.77721623e-02, -1.44268728e-01,\n",
              "         2.17724682e-01, -7.92150691e-02],\n",
              "       [ 6.56119803e-01,  1.00000000e+00, -6.37951842e-02,\n",
              "         3.39983391e-01,  6.00762882e-01, -6.86053786e-03,\n",
              "        -1.25461331e-01,  4.66741020e-01,  1.54762246e-02,\n",
              "         7.31692434e-03,  4.52451526e-03,  3.25997843e-01,\n",
              "        -4.34458257e-01, -1.93158996e-01, -8.51255875e-02,\n",
              "         1.41156697e-01, -1.19881197e-02],\n",
              "       [-3.82661478e-02, -6.37951842e-02,  1.00000000e+00,\n",
              "        -3.95107614e-02, -4.28135032e-02,  1.25398055e-01,\n",
              "         6.71031264e-01, -9.94678895e-02,  1.29650242e-02,\n",
              "         6.18403700e-03,  1.34105031e-01, -1.36318873e-01,\n",
              "        -3.09682898e-02,  1.04269759e-01, -1.82915437e-02,\n",
              "        -3.21137894e-02,  1.55242239e-02],\n",
              "       [ 4.04517715e-01,  3.39983391e-01, -3.95107614e-02,\n",
              "         1.00000000e+00,  3.90287668e-01,  1.96246116e-03,\n",
              "        -5.88424590e-02,  4.20019661e-01,  1.50202390e-02,\n",
              "         6.03147613e-03, -1.62022118e-01,  2.44690211e-01,\n",
              "        -6.74564410e-02, -9.89261530e-02, -7.71603971e-02,\n",
              "         2.24054585e-01, -1.47831742e-01],\n",
              "       [ 7.38031473e-01,  6.00762882e-01, -4.28135032e-02,\n",
              "         3.90287668e-01,  1.00000000e+00,  4.60212334e-03,\n",
              "        -8.62018040e-02,  5.14911684e-01,  2.24661586e-02,\n",
              "         1.50890306e-02, -9.98139616e-02,  2.83918333e-01,\n",
              "        -2.16151406e-01, -1.18599241e-01, -2.12518806e-01,\n",
              "         3.11146347e-01, -1.15026426e-01],\n",
              "       [ 7.08759119e-03, -6.86053786e-03,  1.25398055e-01,\n",
              "         1.96246116e-03,  4.60212334e-03,  1.00000000e+00,\n",
              "         8.72564647e-02, -1.37682185e-02,  3.52177384e-03,\n",
              "         9.87171526e-04,  2.96735517e-02, -3.14153822e-02,\n",
              "        -5.21104649e-03,  2.38682415e-02, -1.16024562e-02,\n",
              "         5.93037775e-03, -4.72043796e-03],\n",
              "       [-9.84848771e-02, -1.25461331e-01,  6.71031264e-01,\n",
              "        -5.88424590e-02, -8.62018040e-02,  8.72564647e-02,\n",
              "         1.00000000e+00, -1.34637814e-01, -1.40427288e-03,\n",
              "         3.35758425e-03,  7.08937130e-02, -1.23813253e-01,\n",
              "         5.14721447e-02,  9.78245828e-02,  2.32770731e-02,\n",
              "         5.97932609e-06, -5.69724994e-02],\n",
              "       [ 5.62957931e-01,  4.66741020e-01, -9.94678895e-02,\n",
              "         4.20019661e-01,  5.14911684e-01, -1.37682185e-02,\n",
              "        -1.34637814e-01,  1.00000000e+00,  1.82447996e-02,\n",
              "         2.35289768e-02, -3.90111803e-01,  4.25133960e-01,\n",
              "         5.26156404e-02, -4.90231789e-02, -1.25731932e-01,\n",
              "         1.60791418e-01, -4.92370909e-02],\n",
              "       [ 1.90877818e-02,  1.54762246e-02,  1.29650242e-02,\n",
              "         1.50202390e-02,  2.24661586e-02,  3.52177384e-03,\n",
              "        -1.40427288e-03,  1.82447996e-02,  1.00000000e+00,\n",
              "         2.02047376e-01,  9.19907571e-03, -8.36905851e-03,\n",
              "        -3.41154656e-03, -9.71863144e-04, -1.26738307e-02,\n",
              "        -1.53503766e-03,  1.37769425e-02],\n",
              "       [ 1.15280503e-02,  7.31692434e-03,  6.18403700e-03,\n",
              "         6.03147613e-03,  1.50890306e-02,  9.87171526e-04,\n",
              "         3.35758425e-03,  2.35289768e-02,  2.02047376e-01,\n",
              "         1.00000000e+00, -3.85755580e-03,  1.55110651e-03,\n",
              "         3.99805510e-03, -1.97450702e-03, -3.91777166e-03,\n",
              "        -2.18622399e-03,  6.81353755e-03],\n",
              "       [-1.56533065e-01,  4.52451526e-03,  1.34105031e-01,\n",
              "        -1.62022118e-01, -9.98139616e-02,  2.96735517e-02,\n",
              "         7.08937130e-02, -3.90111803e-01,  9.19907571e-03,\n",
              "        -3.85755580e-03,  1.00000000e+00, -7.71638837e-01,\n",
              "        -5.51949979e-01, -1.26665953e-01,  1.00318016e-02,\n",
              "        -1.24398742e-01,  1.78240656e-01],\n",
              "       [ 3.34704324e-01,  3.25997843e-01, -1.36318873e-01,\n",
              "         2.44690211e-01,  2.83918333e-01, -3.14153822e-02,\n",
              "        -1.23813253e-01,  4.25133960e-01, -8.36905851e-03,\n",
              "         1.55110651e-03, -7.71638837e-01,  1.00000000e+00,\n",
              "        -1.04490681e-01, -5.72632429e-02, -6.17456631e-03,\n",
              "         1.74509687e-01, -1.72013036e-01],\n",
              "       [-1.94047652e-01, -4.34458257e-01, -3.09682898e-02,\n",
              "        -6.74564410e-02, -2.16151406e-01, -5.21104649e-03,\n",
              "         5.14721447e-02,  5.26156404e-02, -3.41154656e-03,\n",
              "         3.99805510e-03, -5.51949979e-01, -1.04490681e-01,\n",
              "         1.00000000e+00,  2.73123332e-01, -7.59055573e-03,\n",
              "        -3.42764117e-02, -5.31823111e-02],\n",
              "       [-9.77721623e-02, -1.93158996e-01,  1.04269759e-01,\n",
              "        -9.89261530e-02, -1.18599241e-01,  2.38682415e-02,\n",
              "         9.78245828e-02, -4.90231789e-02, -9.71863144e-04,\n",
              "        -1.97450702e-03, -1.26665953e-01, -5.72632429e-02,\n",
              "         2.73123332e-01,  1.00000000e+00, -8.36824284e-02,\n",
              "        -1.65632891e-01, -9.75686056e-02],\n",
              "       [-1.44268728e-01, -8.51255875e-02, -1.82915437e-02,\n",
              "        -7.71603971e-02, -2.12518806e-01, -1.16024562e-02,\n",
              "         2.32770731e-02, -1.25731932e-01, -1.26738307e-02,\n",
              "        -3.91777166e-03,  1.00318016e-02, -6.17456631e-03,\n",
              "        -7.59055573e-03, -8.36824284e-02,  1.00000000e+00,\n",
              "        -5.16102124e-01, -3.04017905e-01],\n",
              "       [ 2.17724682e-01,  1.41156697e-01, -3.21137894e-02,\n",
              "         2.24054585e-01,  3.11146347e-01,  5.93037775e-03,\n",
              "         5.97932609e-06,  1.60791418e-01, -1.53503766e-03,\n",
              "        -2.18622399e-03, -1.24398742e-01,  1.74509687e-01,\n",
              "        -3.42764117e-02, -1.65632891e-01, -5.16102124e-01,\n",
              "         1.00000000e+00, -6.01743586e-01],\n",
              "       [-7.92150691e-02, -1.19881197e-02,  1.55242239e-02,\n",
              "        -1.47831742e-01, -1.15026426e-01, -4.72043796e-03,\n",
              "        -5.69724994e-02, -4.92370909e-02,  1.37769425e-02,\n",
              "         6.81353755e-03,  1.78240656e-01, -1.72013036e-01,\n",
              "        -5.31823111e-02, -9.75686056e-02, -3.04017905e-01,\n",
              "        -6.01743586e-01,  1.00000000e+00]])"
            ]
          },
          "metadata": {},
          "execution_count": 41
        }
      ]
    },
    {
      "cell_type": "markdown",
      "source": [
        "We will create a Pandas Dataframe, passing this correlation toArray(), on columns x and index=x.\n",
        "The result will be a correlation matrix with the crossing of the variables."
      ],
      "metadata": {
        "id": "IoovYv3DTJZH"
      }
    },
    {
      "cell_type": "code",
      "source": [
        "dataframe_correlation = pd.DataFrame(correlation.toArray(), columns=X, index=X)\n",
        "dataframe_correlation"
      ],
      "metadata": {
        "colab": {
          "base_uri": "https://localhost:8080/",
          "height": 644
        },
        "id": "AQ-1w_tUSPyd",
        "outputId": "d21f5742-70f8-4e9b-e040-78556291e4a5"
      },
      "execution_count": null,
      "outputs": [
        {
          "output_type": "execute_result",
          "data": {
            "text/plain": [
              "                 bathrooms  bedrooms    floors  parkingSpaces    suites  \\\n",
              "bathrooms         1.000000  0.656120 -0.038266       0.404518  0.738031   \n",
              "bedrooms          0.656120  1.000000 -0.063795       0.339983  0.600763   \n",
              "floors           -0.038266 -0.063795  1.000000      -0.039511 -0.042814   \n",
              "parkingSpaces     0.404518  0.339983 -0.039511       1.000000  0.390288   \n",
              "suites            0.738031  0.600763 -0.042814       0.390288  1.000000   \n",
              "unitFloor         0.007088 -0.006861  0.125398       0.001962  0.004602   \n",
              "unitsOnTheFloor  -0.098485 -0.125461  0.671031      -0.058842 -0.086202   \n",
              "usableAreas       0.562958  0.466741 -0.099468       0.420020  0.514912   \n",
              "condo             0.019088  0.015476  0.012965       0.015020  0.022466   \n",
              "iptu              0.011528  0.007317  0.006184       0.006031  0.015089   \n",
              "Apartamento      -0.156533  0.004525  0.134105      -0.162022 -0.099814   \n",
              "Casa              0.334704  0.325998 -0.136319       0.244690  0.283918   \n",
              "Outros           -0.194048 -0.434458 -0.030968      -0.067456 -0.216151   \n",
              "Zona Central     -0.097772 -0.193159  0.104270      -0.098926 -0.118599   \n",
              "Zona Norte       -0.144269 -0.085126 -0.018292      -0.077160 -0.212519   \n",
              "Zona Oeste        0.217725  0.141157 -0.032114       0.224055  0.311146   \n",
              "Zona Sul         -0.079215 -0.011988  0.015524      -0.147832 -0.115026   \n",
              "\n",
              "                 unitFloor  unitsOnTheFloor  usableAreas     condo      iptu  \\\n",
              "bathrooms         0.007088        -0.098485     0.562958  0.019088  0.011528   \n",
              "bedrooms         -0.006861        -0.125461     0.466741  0.015476  0.007317   \n",
              "floors            0.125398         0.671031    -0.099468  0.012965  0.006184   \n",
              "parkingSpaces     0.001962        -0.058842     0.420020  0.015020  0.006031   \n",
              "suites            0.004602        -0.086202     0.514912  0.022466  0.015089   \n",
              "unitFloor         1.000000         0.087256    -0.013768  0.003522  0.000987   \n",
              "unitsOnTheFloor   0.087256         1.000000    -0.134638 -0.001404  0.003358   \n",
              "usableAreas      -0.013768        -0.134638     1.000000  0.018245  0.023529   \n",
              "condo             0.003522        -0.001404     0.018245  1.000000  0.202047   \n",
              "iptu              0.000987         0.003358     0.023529  0.202047  1.000000   \n",
              "Apartamento       0.029674         0.070894    -0.390112  0.009199 -0.003858   \n",
              "Casa             -0.031415        -0.123813     0.425134 -0.008369  0.001551   \n",
              "Outros           -0.005211         0.051472     0.052616 -0.003412  0.003998   \n",
              "Zona Central      0.023868         0.097825    -0.049023 -0.000972 -0.001975   \n",
              "Zona Norte       -0.011602         0.023277    -0.125732 -0.012674 -0.003918   \n",
              "Zona Oeste        0.005930         0.000006     0.160791 -0.001535 -0.002186   \n",
              "Zona Sul         -0.004720        -0.056972    -0.049237  0.013777  0.006814   \n",
              "\n",
              "                 Apartamento      Casa    Outros  Zona Central  Zona Norte  \\\n",
              "bathrooms          -0.156533  0.334704 -0.194048     -0.097772   -0.144269   \n",
              "bedrooms            0.004525  0.325998 -0.434458     -0.193159   -0.085126   \n",
              "floors              0.134105 -0.136319 -0.030968      0.104270   -0.018292   \n",
              "parkingSpaces      -0.162022  0.244690 -0.067456     -0.098926   -0.077160   \n",
              "suites             -0.099814  0.283918 -0.216151     -0.118599   -0.212519   \n",
              "unitFloor           0.029674 -0.031415 -0.005211      0.023868   -0.011602   \n",
              "unitsOnTheFloor     0.070894 -0.123813  0.051472      0.097825    0.023277   \n",
              "usableAreas        -0.390112  0.425134  0.052616     -0.049023   -0.125732   \n",
              "condo               0.009199 -0.008369 -0.003412     -0.000972   -0.012674   \n",
              "iptu               -0.003858  0.001551  0.003998     -0.001975   -0.003918   \n",
              "Apartamento         1.000000 -0.771639 -0.551950     -0.126666    0.010032   \n",
              "Casa               -0.771639  1.000000 -0.104491     -0.057263   -0.006175   \n",
              "Outros             -0.551950 -0.104491  1.000000      0.273123   -0.007591   \n",
              "Zona Central       -0.126666 -0.057263  0.273123      1.000000   -0.083682   \n",
              "Zona Norte          0.010032 -0.006175 -0.007591     -0.083682    1.000000   \n",
              "Zona Oeste         -0.124399  0.174510 -0.034276     -0.165633   -0.516102   \n",
              "Zona Sul            0.178241 -0.172013 -0.053182     -0.097569   -0.304018   \n",
              "\n",
              "                 Zona Oeste  Zona Sul  \n",
              "bathrooms          0.217725 -0.079215  \n",
              "bedrooms           0.141157 -0.011988  \n",
              "floors            -0.032114  0.015524  \n",
              "parkingSpaces      0.224055 -0.147832  \n",
              "suites             0.311146 -0.115026  \n",
              "unitFloor          0.005930 -0.004720  \n",
              "unitsOnTheFloor    0.000006 -0.056972  \n",
              "usableAreas        0.160791 -0.049237  \n",
              "condo             -0.001535  0.013777  \n",
              "iptu              -0.002186  0.006814  \n",
              "Apartamento       -0.124399  0.178241  \n",
              "Casa               0.174510 -0.172013  \n",
              "Outros            -0.034276 -0.053182  \n",
              "Zona Central      -0.165633 -0.097569  \n",
              "Zona Norte        -0.516102 -0.304018  \n",
              "Zona Oeste         1.000000 -0.601744  \n",
              "Zona Sul          -0.601744  1.000000  "
            ],
            "text/html": [
              "\n",
              "\n",
              "  <div id=\"df-3480e448-5e0a-4d31-be07-9ab30f6b0ab9\">\n",
              "    <div class=\"colab-df-container\">\n",
              "      <div>\n",
              "<style scoped>\n",
              "    .dataframe tbody tr th:only-of-type {\n",
              "        vertical-align: middle;\n",
              "    }\n",
              "\n",
              "    .dataframe tbody tr th {\n",
              "        vertical-align: top;\n",
              "    }\n",
              "\n",
              "    .dataframe thead th {\n",
              "        text-align: right;\n",
              "    }\n",
              "</style>\n",
              "<table border=\"1\" class=\"dataframe\">\n",
              "  <thead>\n",
              "    <tr style=\"text-align: right;\">\n",
              "      <th></th>\n",
              "      <th>bathrooms</th>\n",
              "      <th>bedrooms</th>\n",
              "      <th>floors</th>\n",
              "      <th>parkingSpaces</th>\n",
              "      <th>suites</th>\n",
              "      <th>unitFloor</th>\n",
              "      <th>unitsOnTheFloor</th>\n",
              "      <th>usableAreas</th>\n",
              "      <th>condo</th>\n",
              "      <th>iptu</th>\n",
              "      <th>Apartamento</th>\n",
              "      <th>Casa</th>\n",
              "      <th>Outros</th>\n",
              "      <th>Zona Central</th>\n",
              "      <th>Zona Norte</th>\n",
              "      <th>Zona Oeste</th>\n",
              "      <th>Zona Sul</th>\n",
              "    </tr>\n",
              "  </thead>\n",
              "  <tbody>\n",
              "    <tr>\n",
              "      <th>bathrooms</th>\n",
              "      <td>1.000000</td>\n",
              "      <td>0.656120</td>\n",
              "      <td>-0.038266</td>\n",
              "      <td>0.404518</td>\n",
              "      <td>0.738031</td>\n",
              "      <td>0.007088</td>\n",
              "      <td>-0.098485</td>\n",
              "      <td>0.562958</td>\n",
              "      <td>0.019088</td>\n",
              "      <td>0.011528</td>\n",
              "      <td>-0.156533</td>\n",
              "      <td>0.334704</td>\n",
              "      <td>-0.194048</td>\n",
              "      <td>-0.097772</td>\n",
              "      <td>-0.144269</td>\n",
              "      <td>0.217725</td>\n",
              "      <td>-0.079215</td>\n",
              "    </tr>\n",
              "    <tr>\n",
              "      <th>bedrooms</th>\n",
              "      <td>0.656120</td>\n",
              "      <td>1.000000</td>\n",
              "      <td>-0.063795</td>\n",
              "      <td>0.339983</td>\n",
              "      <td>0.600763</td>\n",
              "      <td>-0.006861</td>\n",
              "      <td>-0.125461</td>\n",
              "      <td>0.466741</td>\n",
              "      <td>0.015476</td>\n",
              "      <td>0.007317</td>\n",
              "      <td>0.004525</td>\n",
              "      <td>0.325998</td>\n",
              "      <td>-0.434458</td>\n",
              "      <td>-0.193159</td>\n",
              "      <td>-0.085126</td>\n",
              "      <td>0.141157</td>\n",
              "      <td>-0.011988</td>\n",
              "    </tr>\n",
              "    <tr>\n",
              "      <th>floors</th>\n",
              "      <td>-0.038266</td>\n",
              "      <td>-0.063795</td>\n",
              "      <td>1.000000</td>\n",
              "      <td>-0.039511</td>\n",
              "      <td>-0.042814</td>\n",
              "      <td>0.125398</td>\n",
              "      <td>0.671031</td>\n",
              "      <td>-0.099468</td>\n",
              "      <td>0.012965</td>\n",
              "      <td>0.006184</td>\n",
              "      <td>0.134105</td>\n",
              "      <td>-0.136319</td>\n",
              "      <td>-0.030968</td>\n",
              "      <td>0.104270</td>\n",
              "      <td>-0.018292</td>\n",
              "      <td>-0.032114</td>\n",
              "      <td>0.015524</td>\n",
              "    </tr>\n",
              "    <tr>\n",
              "      <th>parkingSpaces</th>\n",
              "      <td>0.404518</td>\n",
              "      <td>0.339983</td>\n",
              "      <td>-0.039511</td>\n",
              "      <td>1.000000</td>\n",
              "      <td>0.390288</td>\n",
              "      <td>0.001962</td>\n",
              "      <td>-0.058842</td>\n",
              "      <td>0.420020</td>\n",
              "      <td>0.015020</td>\n",
              "      <td>0.006031</td>\n",
              "      <td>-0.162022</td>\n",
              "      <td>0.244690</td>\n",
              "      <td>-0.067456</td>\n",
              "      <td>-0.098926</td>\n",
              "      <td>-0.077160</td>\n",
              "      <td>0.224055</td>\n",
              "      <td>-0.147832</td>\n",
              "    </tr>\n",
              "    <tr>\n",
              "      <th>suites</th>\n",
              "      <td>0.738031</td>\n",
              "      <td>0.600763</td>\n",
              "      <td>-0.042814</td>\n",
              "      <td>0.390288</td>\n",
              "      <td>1.000000</td>\n",
              "      <td>0.004602</td>\n",
              "      <td>-0.086202</td>\n",
              "      <td>0.514912</td>\n",
              "      <td>0.022466</td>\n",
              "      <td>0.015089</td>\n",
              "      <td>-0.099814</td>\n",
              "      <td>0.283918</td>\n",
              "      <td>-0.216151</td>\n",
              "      <td>-0.118599</td>\n",
              "      <td>-0.212519</td>\n",
              "      <td>0.311146</td>\n",
              "      <td>-0.115026</td>\n",
              "    </tr>\n",
              "    <tr>\n",
              "      <th>unitFloor</th>\n",
              "      <td>0.007088</td>\n",
              "      <td>-0.006861</td>\n",
              "      <td>0.125398</td>\n",
              "      <td>0.001962</td>\n",
              "      <td>0.004602</td>\n",
              "      <td>1.000000</td>\n",
              "      <td>0.087256</td>\n",
              "      <td>-0.013768</td>\n",
              "      <td>0.003522</td>\n",
              "      <td>0.000987</td>\n",
              "      <td>0.029674</td>\n",
              "      <td>-0.031415</td>\n",
              "      <td>-0.005211</td>\n",
              "      <td>0.023868</td>\n",
              "      <td>-0.011602</td>\n",
              "      <td>0.005930</td>\n",
              "      <td>-0.004720</td>\n",
              "    </tr>\n",
              "    <tr>\n",
              "      <th>unitsOnTheFloor</th>\n",
              "      <td>-0.098485</td>\n",
              "      <td>-0.125461</td>\n",
              "      <td>0.671031</td>\n",
              "      <td>-0.058842</td>\n",
              "      <td>-0.086202</td>\n",
              "      <td>0.087256</td>\n",
              "      <td>1.000000</td>\n",
              "      <td>-0.134638</td>\n",
              "      <td>-0.001404</td>\n",
              "      <td>0.003358</td>\n",
              "      <td>0.070894</td>\n",
              "      <td>-0.123813</td>\n",
              "      <td>0.051472</td>\n",
              "      <td>0.097825</td>\n",
              "      <td>0.023277</td>\n",
              "      <td>0.000006</td>\n",
              "      <td>-0.056972</td>\n",
              "    </tr>\n",
              "    <tr>\n",
              "      <th>usableAreas</th>\n",
              "      <td>0.562958</td>\n",
              "      <td>0.466741</td>\n",
              "      <td>-0.099468</td>\n",
              "      <td>0.420020</td>\n",
              "      <td>0.514912</td>\n",
              "      <td>-0.013768</td>\n",
              "      <td>-0.134638</td>\n",
              "      <td>1.000000</td>\n",
              "      <td>0.018245</td>\n",
              "      <td>0.023529</td>\n",
              "      <td>-0.390112</td>\n",
              "      <td>0.425134</td>\n",
              "      <td>0.052616</td>\n",
              "      <td>-0.049023</td>\n",
              "      <td>-0.125732</td>\n",
              "      <td>0.160791</td>\n",
              "      <td>-0.049237</td>\n",
              "    </tr>\n",
              "    <tr>\n",
              "      <th>condo</th>\n",
              "      <td>0.019088</td>\n",
              "      <td>0.015476</td>\n",
              "      <td>0.012965</td>\n",
              "      <td>0.015020</td>\n",
              "      <td>0.022466</td>\n",
              "      <td>0.003522</td>\n",
              "      <td>-0.001404</td>\n",
              "      <td>0.018245</td>\n",
              "      <td>1.000000</td>\n",
              "      <td>0.202047</td>\n",
              "      <td>0.009199</td>\n",
              "      <td>-0.008369</td>\n",
              "      <td>-0.003412</td>\n",
              "      <td>-0.000972</td>\n",
              "      <td>-0.012674</td>\n",
              "      <td>-0.001535</td>\n",
              "      <td>0.013777</td>\n",
              "    </tr>\n",
              "    <tr>\n",
              "      <th>iptu</th>\n",
              "      <td>0.011528</td>\n",
              "      <td>0.007317</td>\n",
              "      <td>0.006184</td>\n",
              "      <td>0.006031</td>\n",
              "      <td>0.015089</td>\n",
              "      <td>0.000987</td>\n",
              "      <td>0.003358</td>\n",
              "      <td>0.023529</td>\n",
              "      <td>0.202047</td>\n",
              "      <td>1.000000</td>\n",
              "      <td>-0.003858</td>\n",
              "      <td>0.001551</td>\n",
              "      <td>0.003998</td>\n",
              "      <td>-0.001975</td>\n",
              "      <td>-0.003918</td>\n",
              "      <td>-0.002186</td>\n",
              "      <td>0.006814</td>\n",
              "    </tr>\n",
              "    <tr>\n",
              "      <th>Apartamento</th>\n",
              "      <td>-0.156533</td>\n",
              "      <td>0.004525</td>\n",
              "      <td>0.134105</td>\n",
              "      <td>-0.162022</td>\n",
              "      <td>-0.099814</td>\n",
              "      <td>0.029674</td>\n",
              "      <td>0.070894</td>\n",
              "      <td>-0.390112</td>\n",
              "      <td>0.009199</td>\n",
              "      <td>-0.003858</td>\n",
              "      <td>1.000000</td>\n",
              "      <td>-0.771639</td>\n",
              "      <td>-0.551950</td>\n",
              "      <td>-0.126666</td>\n",
              "      <td>0.010032</td>\n",
              "      <td>-0.124399</td>\n",
              "      <td>0.178241</td>\n",
              "    </tr>\n",
              "    <tr>\n",
              "      <th>Casa</th>\n",
              "      <td>0.334704</td>\n",
              "      <td>0.325998</td>\n",
              "      <td>-0.136319</td>\n",
              "      <td>0.244690</td>\n",
              "      <td>0.283918</td>\n",
              "      <td>-0.031415</td>\n",
              "      <td>-0.123813</td>\n",
              "      <td>0.425134</td>\n",
              "      <td>-0.008369</td>\n",
              "      <td>0.001551</td>\n",
              "      <td>-0.771639</td>\n",
              "      <td>1.000000</td>\n",
              "      <td>-0.104491</td>\n",
              "      <td>-0.057263</td>\n",
              "      <td>-0.006175</td>\n",
              "      <td>0.174510</td>\n",
              "      <td>-0.172013</td>\n",
              "    </tr>\n",
              "    <tr>\n",
              "      <th>Outros</th>\n",
              "      <td>-0.194048</td>\n",
              "      <td>-0.434458</td>\n",
              "      <td>-0.030968</td>\n",
              "      <td>-0.067456</td>\n",
              "      <td>-0.216151</td>\n",
              "      <td>-0.005211</td>\n",
              "      <td>0.051472</td>\n",
              "      <td>0.052616</td>\n",
              "      <td>-0.003412</td>\n",
              "      <td>0.003998</td>\n",
              "      <td>-0.551950</td>\n",
              "      <td>-0.104491</td>\n",
              "      <td>1.000000</td>\n",
              "      <td>0.273123</td>\n",
              "      <td>-0.007591</td>\n",
              "      <td>-0.034276</td>\n",
              "      <td>-0.053182</td>\n",
              "    </tr>\n",
              "    <tr>\n",
              "      <th>Zona Central</th>\n",
              "      <td>-0.097772</td>\n",
              "      <td>-0.193159</td>\n",
              "      <td>0.104270</td>\n",
              "      <td>-0.098926</td>\n",
              "      <td>-0.118599</td>\n",
              "      <td>0.023868</td>\n",
              "      <td>0.097825</td>\n",
              "      <td>-0.049023</td>\n",
              "      <td>-0.000972</td>\n",
              "      <td>-0.001975</td>\n",
              "      <td>-0.126666</td>\n",
              "      <td>-0.057263</td>\n",
              "      <td>0.273123</td>\n",
              "      <td>1.000000</td>\n",
              "      <td>-0.083682</td>\n",
              "      <td>-0.165633</td>\n",
              "      <td>-0.097569</td>\n",
              "    </tr>\n",
              "    <tr>\n",
              "      <th>Zona Norte</th>\n",
              "      <td>-0.144269</td>\n",
              "      <td>-0.085126</td>\n",
              "      <td>-0.018292</td>\n",
              "      <td>-0.077160</td>\n",
              "      <td>-0.212519</td>\n",
              "      <td>-0.011602</td>\n",
              "      <td>0.023277</td>\n",
              "      <td>-0.125732</td>\n",
              "      <td>-0.012674</td>\n",
              "      <td>-0.003918</td>\n",
              "      <td>0.010032</td>\n",
              "      <td>-0.006175</td>\n",
              "      <td>-0.007591</td>\n",
              "      <td>-0.083682</td>\n",
              "      <td>1.000000</td>\n",
              "      <td>-0.516102</td>\n",
              "      <td>-0.304018</td>\n",
              "    </tr>\n",
              "    <tr>\n",
              "      <th>Zona Oeste</th>\n",
              "      <td>0.217725</td>\n",
              "      <td>0.141157</td>\n",
              "      <td>-0.032114</td>\n",
              "      <td>0.224055</td>\n",
              "      <td>0.311146</td>\n",
              "      <td>0.005930</td>\n",
              "      <td>0.000006</td>\n",
              "      <td>0.160791</td>\n",
              "      <td>-0.001535</td>\n",
              "      <td>-0.002186</td>\n",
              "      <td>-0.124399</td>\n",
              "      <td>0.174510</td>\n",
              "      <td>-0.034276</td>\n",
              "      <td>-0.165633</td>\n",
              "      <td>-0.516102</td>\n",
              "      <td>1.000000</td>\n",
              "      <td>-0.601744</td>\n",
              "    </tr>\n",
              "    <tr>\n",
              "      <th>Zona Sul</th>\n",
              "      <td>-0.079215</td>\n",
              "      <td>-0.011988</td>\n",
              "      <td>0.015524</td>\n",
              "      <td>-0.147832</td>\n",
              "      <td>-0.115026</td>\n",
              "      <td>-0.004720</td>\n",
              "      <td>-0.056972</td>\n",
              "      <td>-0.049237</td>\n",
              "      <td>0.013777</td>\n",
              "      <td>0.006814</td>\n",
              "      <td>0.178241</td>\n",
              "      <td>-0.172013</td>\n",
              "      <td>-0.053182</td>\n",
              "      <td>-0.097569</td>\n",
              "      <td>-0.304018</td>\n",
              "      <td>-0.601744</td>\n",
              "      <td>1.000000</td>\n",
              "    </tr>\n",
              "  </tbody>\n",
              "</table>\n",
              "</div>\n",
              "      <button class=\"colab-df-convert\" onclick=\"convertToInteractive('df-3480e448-5e0a-4d31-be07-9ab30f6b0ab9')\"\n",
              "              title=\"Convert this dataframe to an interactive table.\"\n",
              "              style=\"display:none;\">\n",
              "\n",
              "  <svg xmlns=\"http://www.w3.org/2000/svg\" height=\"24px\"viewBox=\"0 0 24 24\"\n",
              "       width=\"24px\">\n",
              "    <path d=\"M0 0h24v24H0V0z\" fill=\"none\"/>\n",
              "    <path d=\"M18.56 5.44l.94 2.06.94-2.06 2.06-.94-2.06-.94-.94-2.06-.94 2.06-2.06.94zm-11 1L8.5 8.5l.94-2.06 2.06-.94-2.06-.94L8.5 2.5l-.94 2.06-2.06.94zm10 10l.94 2.06.94-2.06 2.06-.94-2.06-.94-.94-2.06-.94 2.06-2.06.94z\"/><path d=\"M17.41 7.96l-1.37-1.37c-.4-.4-.92-.59-1.43-.59-.52 0-1.04.2-1.43.59L10.3 9.45l-7.72 7.72c-.78.78-.78 2.05 0 2.83L4 21.41c.39.39.9.59 1.41.59.51 0 1.02-.2 1.41-.59l7.78-7.78 2.81-2.81c.8-.78.8-2.07 0-2.86zM5.41 20L4 18.59l7.72-7.72 1.47 1.35L5.41 20z\"/>\n",
              "  </svg>\n",
              "      </button>\n",
              "\n",
              "\n",
              "\n",
              "    <div id=\"df-01d0a3b4-ddc9-4c63-a2c9-0d9e0679bd07\">\n",
              "      <button class=\"colab-df-quickchart\" onclick=\"quickchart('df-01d0a3b4-ddc9-4c63-a2c9-0d9e0679bd07')\"\n",
              "              title=\"Suggest charts.\"\n",
              "              style=\"display:none;\">\n",
              "\n",
              "<svg xmlns=\"http://www.w3.org/2000/svg\" height=\"24px\"viewBox=\"0 0 24 24\"\n",
              "     width=\"24px\">\n",
              "    <g>\n",
              "        <path d=\"M19 3H5c-1.1 0-2 .9-2 2v14c0 1.1.9 2 2 2h14c1.1 0 2-.9 2-2V5c0-1.1-.9-2-2-2zM9 17H7v-7h2v7zm4 0h-2V7h2v10zm4 0h-2v-4h2v4z\"/>\n",
              "    </g>\n",
              "</svg>\n",
              "      </button>\n",
              "    </div>\n",
              "\n",
              "<style>\n",
              "  .colab-df-quickchart {\n",
              "    background-color: #E8F0FE;\n",
              "    border: none;\n",
              "    border-radius: 50%;\n",
              "    cursor: pointer;\n",
              "    display: none;\n",
              "    fill: #1967D2;\n",
              "    height: 32px;\n",
              "    padding: 0 0 0 0;\n",
              "    width: 32px;\n",
              "  }\n",
              "\n",
              "  .colab-df-quickchart:hover {\n",
              "    background-color: #E2EBFA;\n",
              "    box-shadow: 0px 1px 2px rgba(60, 64, 67, 0.3), 0px 1px 3px 1px rgba(60, 64, 67, 0.15);\n",
              "    fill: #174EA6;\n",
              "  }\n",
              "\n",
              "  [theme=dark] .colab-df-quickchart {\n",
              "    background-color: #3B4455;\n",
              "    fill: #D2E3FC;\n",
              "  }\n",
              "\n",
              "  [theme=dark] .colab-df-quickchart:hover {\n",
              "    background-color: #434B5C;\n",
              "    box-shadow: 0px 1px 3px 1px rgba(0, 0, 0, 0.15);\n",
              "    filter: drop-shadow(0px 1px 2px rgba(0, 0, 0, 0.3));\n",
              "    fill: #FFFFFF;\n",
              "  }\n",
              "</style>\n",
              "\n",
              "    <script>\n",
              "      async function quickchart(key) {\n",
              "        const containerElement = document.querySelector('#' + key);\n",
              "        const charts = await google.colab.kernel.invokeFunction(\n",
              "            'suggestCharts', [key], {});\n",
              "      }\n",
              "    </script>\n",
              "\n",
              "      <script>\n",
              "\n",
              "function displayQuickchartButton(domScope) {\n",
              "  let quickchartButtonEl =\n",
              "    domScope.querySelector('#df-01d0a3b4-ddc9-4c63-a2c9-0d9e0679bd07 button.colab-df-quickchart');\n",
              "  quickchartButtonEl.style.display =\n",
              "    google.colab.kernel.accessAllowed ? 'block' : 'none';\n",
              "}\n",
              "\n",
              "        displayQuickchartButton(document);\n",
              "      </script>\n",
              "      <style>\n",
              "    .colab-df-container {\n",
              "      display:flex;\n",
              "      flex-wrap:wrap;\n",
              "      gap: 12px;\n",
              "    }\n",
              "\n",
              "    .colab-df-convert {\n",
              "      background-color: #E8F0FE;\n",
              "      border: none;\n",
              "      border-radius: 50%;\n",
              "      cursor: pointer;\n",
              "      display: none;\n",
              "      fill: #1967D2;\n",
              "      height: 32px;\n",
              "      padding: 0 0 0 0;\n",
              "      width: 32px;\n",
              "    }\n",
              "\n",
              "    .colab-df-convert:hover {\n",
              "      background-color: #E2EBFA;\n",
              "      box-shadow: 0px 1px 2px rgba(60, 64, 67, 0.3), 0px 1px 3px 1px rgba(60, 64, 67, 0.15);\n",
              "      fill: #174EA6;\n",
              "    }\n",
              "\n",
              "    [theme=dark] .colab-df-convert {\n",
              "      background-color: #3B4455;\n",
              "      fill: #D2E3FC;\n",
              "    }\n",
              "\n",
              "    [theme=dark] .colab-df-convert:hover {\n",
              "      background-color: #434B5C;\n",
              "      box-shadow: 0px 1px 3px 1px rgba(0, 0, 0, 0.15);\n",
              "      filter: drop-shadow(0px 1px 2px rgba(0, 0, 0, 0.3));\n",
              "      fill: #FFFFFF;\n",
              "    }\n",
              "  </style>\n",
              "\n",
              "      <script>\n",
              "        const buttonEl =\n",
              "          document.querySelector('#df-3480e448-5e0a-4d31-be07-9ab30f6b0ab9 button.colab-df-convert');\n",
              "        buttonEl.style.display =\n",
              "          google.colab.kernel.accessAllowed ? 'block' : 'none';\n",
              "\n",
              "        async function convertToInteractive(key) {\n",
              "          const element = document.querySelector('#df-3480e448-5e0a-4d31-be07-9ab30f6b0ab9');\n",
              "          const dataTable =\n",
              "            await google.colab.kernel.invokeFunction('convertToInteractive',\n",
              "                                                     [key], {});\n",
              "          if (!dataTable) return;\n",
              "\n",
              "          const docLinkHtml = 'Like what you see? Visit the ' +\n",
              "            '<a target=\"_blank\" href=https://colab.research.google.com/notebooks/data_table.ipynb>data table notebook</a>'\n",
              "            + ' to learn more about interactive tables.';\n",
              "          element.innerHTML = '';\n",
              "          dataTable['output_type'] = 'display_data';\n",
              "          await google.colab.output.renderOutput(dataTable, element);\n",
              "          const docLink = document.createElement('div');\n",
              "          docLink.innerHTML = docLinkHtml;\n",
              "          element.appendChild(docLink);\n",
              "        }\n",
              "      </script>\n",
              "    </div>\n",
              "  </div>\n"
            ]
          },
          "metadata": {},
          "execution_count": 42
        }
      ]
    },
    {
      "cell_type": "code",
      "source": [
        "plt.figure(figsize=(12,10))\n",
        "color = sns.color_palette('light:salmon', as_cmap=True)\n",
        "sns.heatmap(dataframe_correlation.round(1), annot=True, cmap=color)"
      ],
      "metadata": {
        "colab": {
          "base_uri": "https://localhost:8080/",
          "height": 954
        },
        "id": "uc1N0TjgTKZ8",
        "outputId": "58dc6faa-16bb-41df-9162-07b7a38d5344"
      },
      "execution_count": null,
      "outputs": [
        {
          "output_type": "execute_result",
          "data": {
            "text/plain": [
              "<Axes: >"
            ]
          },
          "metadata": {},
          "execution_count": 43
        },
        {
          "output_type": "display_data",
          "data": {
            "text/plain": [
              "<Figure size 1200x1000 with 2 Axes>"
            ],
            "image/png": "[encoded data removed]"
          },
          "metadata": {}
        }
      ]
    },
    {
      "cell_type": "markdown",
      "source": [
        "# Adjust and predict model"
      ],
      "metadata": {
        "id": "PxVrS3Fs-k0A"
      }
    },
    {
      "cell_type": "code",
      "source": [
        "train, test = data_set_prep.randomSplit([0.7, 0.3], seed=101)"
      ],
      "metadata": {
        "id": "1MBgPoPe-x1s"
      },
      "execution_count": null,
      "outputs": []
    },
    {
      "cell_type": "code",
      "source": [
        "train.count()"
      ],
      "metadata": {
        "colab": {
          "base_uri": "https://localhost:8080/"
        },
        "id": "VkFwDIOH_J2a",
        "outputId": "f97a5e21-af01-410d-c7a0-975f511d68b1"
      },
      "execution_count": null,
      "outputs": [
        {
          "output_type": "execute_result",
          "data": {
            "text/plain": [
              "51324"
            ]
          },
          "metadata": {},
          "execution_count": 45
        }
      ]
    },
    {
      "cell_type": "code",
      "source": [
        "test.count()"
      ],
      "metadata": {
        "colab": {
          "base_uri": "https://localhost:8080/"
        },
        "id": "ThaS98FA_LYj",
        "outputId": "e3809742-5102-455a-ca41-b6b6764433e6"
      },
      "execution_count": null,
      "outputs": [
        {
          "output_type": "execute_result",
          "data": {
            "text/plain": [
              "22126"
            ]
          },
          "metadata": {},
          "execution_count": 46
        }
      ]
    },
    {
      "cell_type": "markdown",
      "source": [
        "## Linear Regression\n",
        "\n",
        "Linear regression is a model that summarizes the data to a linear function, f(x)= ax + b, where ax is a term that depends on our columns, that is, each column will contribute a little to it. The b is an independent term and refers to the minimum value of a property, even when all columns are represented by zero.\n",
        "\n"
      ],
      "metadata": {
        "id": "-pVjsarAAv4Z"
      }
    },
    {
      "cell_type": "markdown",
      "source": [
        "Here we are creating the Linear Regression model"
      ],
      "metadata": {
        "id": "RyZtarQ9_nRF"
      }
    },
    {
      "cell_type": "code",
      "source": [
        "lr = LinearRegression()"
      ],
      "metadata": {
        "id": "zbyimB8O_PKk"
      },
      "execution_count": null,
      "outputs": []
    },
    {
      "cell_type": "markdown",
      "source": [
        "Here we are adjusting the lr model with our train data"
      ],
      "metadata": {
        "id": "n8qIZZs__szg"
      }
    },
    {
      "cell_type": "code",
      "source": [
        "model_lr = lr.fit(train)"
      ],
      "metadata": {
        "id": "WCr3W7VL_U74"
      },
      "execution_count": null,
      "outputs": []
    },
    {
      "cell_type": "markdown",
      "source": [
        "Here we are creating our predicted datas"
      ],
      "metadata": {
        "id": "T78n1uC__1r4"
      }
    },
    {
      "cell_type": "code",
      "source": [
        "predicted_lr_train = model_lr.transform(train)"
      ],
      "metadata": {
        "id": "H7cSzcwf_aNH"
      },
      "execution_count": null,
      "outputs": []
    },
    {
      "cell_type": "code",
      "source": [
        "predicted_lr_train.show()"
      ],
      "metadata": {
        "colab": {
          "base_uri": "https://localhost:8080/"
        },
        "id": "VCl3W-ux_8_1",
        "outputId": "74ea0a14-051c-406b-fc14-1c83117e0075"
      },
      "execution_count": null,
      "outputs": [
        {
          "output_type": "stream",
          "name": "stdout",
          "text": [
            "+--------------------+--------+------------------+\n",
            "|            features|   label|        prediction|\n",
            "+--------------------+--------+------------------+\n",
            "|(17,[0,1,2,3,4,5,...|260000.0| 560499.7981843911|\n",
            "|(17,[0,1,2,3,4,5,...|500000.0|1166054.9861659498|\n",
            "|(17,[0,1,2,3,4,5,...|308615.0| 190212.2050590142|\n",
            "|(17,[0,1,2,3,4,5,...|279000.0| 191967.9568849082|\n",
            "|(17,[0,1,2,3,4,5,...|545000.0| 366885.1496882401|\n",
            "|(17,[0,1,2,3,4,5,...|449000.0|  439088.490880688|\n",
            "|(17,[0,1,2,3,4,5,...|479000.0| 442954.9893820426|\n",
            "|(17,[0,1,2,3,4,5,...|420000.0| 744858.3284430248|\n",
            "|(17,[0,1,2,3,4,5,...|265000.0| 529019.2203301797|\n",
            "|(17,[0,1,2,3,4,5,...|490000.0| 826959.0346277542|\n",
            "|(17,[0,1,2,3,4,5,...|650000.0| 647996.8370044273|\n",
            "|(17,[0,1,2,3,4,5,...|379900.0| 487601.5105713504|\n",
            "|(17,[0,1,2,3,4,5,...|449000.0| 777195.0791989593|\n",
            "|(17,[0,1,2,3,4,5,...|190000.0| 451693.1196279866|\n",
            "|(17,[0,1,2,3,4,5,...|896000.0| 597364.1931469669|\n",
            "|(17,[0,1,2,3,4,5,...|679000.0| 844132.1009253846|\n",
            "|(17,[0,1,2,3,4,5,...|620000.0|496794.66298182966|\n",
            "|(17,[0,1,2,3,4,5,...|727000.0| 482033.9823378544|\n",
            "|(17,[0,1,2,3,4,5,...|880000.0| 807904.6182894367|\n",
            "|(17,[0,1,2,3,4,5,...|435000.0| 417488.0729387296|\n",
            "+--------------------+--------+------------------+\n",
            "only showing top 20 rows\n",
            "\n"
          ]
        }
      ]
    },
    {
      "cell_type": "markdown",
      "source": [
        "## Metrics to evaluate our lr model\n",
        "\n",
        "The `R2` refers to how much the model fits the data, that is, how much it reflects the reality of the data.\n",
        "\n",
        "The `RMSE` is the average squared error and then we calculate the root of everything to verify a metric that evaluates the errors of the model and not the model itself."
      ],
      "metadata": {
        "id": "idpmGxQyAPSa"
      }
    },
    {
      "cell_type": "code",
      "source": [
        "resume_train = model_lr.summary"
      ],
      "metadata": {
        "id": "_II87vu7AUl0"
      },
      "execution_count": null,
      "outputs": []
    },
    {
      "cell_type": "code",
      "source": [
        "resume_train.r2"
      ],
      "metadata": {
        "colab": {
          "base_uri": "https://localhost:8080/"
        },
        "id": "_-HBiWSiAcB_",
        "outputId": "68168148-def2-49e6-f243-734f8d91110b"
      },
      "execution_count": null,
      "outputs": [
        {
          "output_type": "execute_result",
          "data": {
            "text/plain": [
              "0.640788699202807"
            ]
          },
          "metadata": {},
          "execution_count": 52
        }
      ]
    },
    {
      "cell_type": "markdown",
      "source": [
        "It means that the adjust of the model to our data is about 64%"
      ],
      "metadata": {
        "id": "b4Bvl17kA6bN"
      }
    },
    {
      "cell_type": "code",
      "source": [
        "resume_train.rootMeanSquaredError"
      ],
      "metadata": {
        "colab": {
          "base_uri": "https://localhost:8080/"
        },
        "id": "yK6y4zUaAhfE",
        "outputId": "0006e60a-2ebb-43ea-d983-fb5c341c2ac4"
      },
      "execution_count": null,
      "outputs": [
        {
          "output_type": "execute_result",
          "data": {
            "text/plain": [
              "825427.8413403697"
            ]
          },
          "metadata": {},
          "execution_count": 53
        }
      ]
    },
    {
      "cell_type": "markdown",
      "source": [
        "Doing the same thing with test data"
      ],
      "metadata": {
        "id": "GB_XR7GzBvPR"
      }
    },
    {
      "cell_type": "code",
      "source": [
        "resume_test = model_lr.evaluate(test)"
      ],
      "metadata": {
        "id": "dZIfjm-2Ama0"
      },
      "execution_count": null,
      "outputs": []
    },
    {
      "cell_type": "code",
      "source": [
        "resume_test.r2"
      ],
      "metadata": {
        "colab": {
          "base_uri": "https://localhost:8080/"
        },
        "id": "eeD0qS5zAvD-",
        "outputId": "1d5eea10-0690-4250-cf13-924774b1773b"
      },
      "execution_count": null,
      "outputs": [
        {
          "output_type": "execute_result",
          "data": {
            "text/plain": [
              "0.6288737976447805"
            ]
          },
          "metadata": {},
          "execution_count": 55
        }
      ]
    },
    {
      "cell_type": "code",
      "source": [
        "resume_test.rootMeanSquaredError"
      ],
      "metadata": {
        "colab": {
          "base_uri": "https://localhost:8080/"
        },
        "id": "Cy8amvHEAymT",
        "outputId": "51ef34aa-daf2-41f2-dd0d-21e16be792e5"
      },
      "execution_count": null,
      "outputs": [
        {
          "output_type": "execute_result",
          "data": {
            "text/plain": [
              "856029.6710700649"
            ]
          },
          "metadata": {},
          "execution_count": 56
        }
      ]
    },
    {
      "cell_type": "code",
      "source": [
        "print('Linear Regression')\n",
        "print(\"=\"*30)\n",
        "print(\"Train data\")\n",
        "print(\"=\"*30)\n",
        "print(\"R²: %f\" % resume_train.r2)\n",
        "print(\"RMSE: %f\" % resume_train.rootMeanSquaredError)\n",
        "print(\"\")\n",
        "print(\"=\"*30)\n",
        "print(\"Test data\")\n",
        "print(\"=\"*30)\n",
        "print(\"R²: %f\" % resume_test.r2)\n",
        "print(\"RMSE: %f\" % resume_test.rootMeanSquaredError)\n"
      ],
      "metadata": {
        "colab": {
          "base_uri": "https://localhost:8080/"
        },
        "id": "ADlKf-cpCD1S",
        "outputId": "e4b5d275-ed60-4a55-b704-5e181503a481"
      },
      "execution_count": null,
      "outputs": [
        {
          "output_type": "stream",
          "name": "stdout",
          "text": [
            "Linear Regression\n",
            "==============================\n",
            "Train data\n",
            "==============================\n",
            "R²: 0.640789\n",
            "RMSE: 825427.841340\n",
            "\n",
            "==============================\n",
            "Test data\n",
            "==============================\n",
            "R²: 0.628874\n",
            "RMSE: 856029.671070\n"
          ]
        }
      ]
    },
    {
      "cell_type": "markdown",
      "source": [
        "## Decision tree model\n",
        "\n",
        "The Decision Tree model shows how the decision tree works for regression. First, there is an initial decision or initial node that we also call the root: n_rooms > 5. Next, there are two possibilities: the property can have more or less than five rooms.\n",
        "\n",
        "Depending on these possibilities, we will fall into another conditional, in this case, if the area is greater than twelve hundred, area > 1200, or if the number of bathrooms is greater than 7, n_bathrooms > 7. This part, we call sub- node or branch. As we go through these decisions, at the end, we will have the regression value, the value of this property, which we call the leaf or terminal node."
      ],
      "metadata": {
        "id": "RyRL7_XmV8DY"
      }
    },
    {
      "cell_type": "code",
      "source": [
        "dtr = DecisionTreeRegressor(seed=101, maxDepth=7)"
      ],
      "metadata": {
        "id": "CtGImxXLV9-2"
      },
      "execution_count": null,
      "outputs": []
    },
    {
      "cell_type": "code",
      "source": [
        "model_dtr = dtr.fit(train)"
      ],
      "metadata": {
        "id": "_vF-tG5tYhUG"
      },
      "execution_count": null,
      "outputs": []
    },
    {
      "cell_type": "code",
      "source": [
        "predicted_dtr_train = model_dtr.transform(train)"
      ],
      "metadata": {
        "id": "rxOESWioYnuA"
      },
      "execution_count": null,
      "outputs": []
    },
    {
      "cell_type": "code",
      "source": [
        "predicted_dtr_train.show()"
      ],
      "metadata": {
        "colab": {
          "base_uri": "https://localhost:8080/"
        },
        "id": "bjPA8TbxY0Mv",
        "outputId": "ce1cec0c-44f8-42f3-94e5-75208549a61f"
      },
      "execution_count": null,
      "outputs": [
        {
          "output_type": "stream",
          "name": "stdout",
          "text": [
            "+--------------------+--------+------------------+\n",
            "|            features|   label|        prediction|\n",
            "+--------------------+--------+------------------+\n",
            "|(17,[0,1,2,3,4,5,...|260000.0|340333.91761115956|\n",
            "|(17,[0,1,2,3,4,5,...|500000.0|487496.36237785016|\n",
            "|(17,[0,1,2,3,4,5,...|308615.0|340333.91761115956|\n",
            "|(17,[0,1,2,3,4,5,...|279000.0|340333.91761115956|\n",
            "|(17,[0,1,2,3,4,5,...|545000.0|487496.36237785016|\n",
            "|(17,[0,1,2,3,4,5,...|449000.0|487496.36237785016|\n",
            "|(17,[0,1,2,3,4,5,...|479000.0|487496.36237785016|\n",
            "|(17,[0,1,2,3,4,5,...|420000.0| 795307.4905239688|\n",
            "|(17,[0,1,2,3,4,5,...|265000.0|487496.36237785016|\n",
            "|(17,[0,1,2,3,4,5,...|490000.0| 795307.4905239688|\n",
            "|(17,[0,1,2,3,4,5,...|650000.0| 656752.9867498052|\n",
            "|(17,[0,1,2,3,4,5,...|379900.0|487496.36237785016|\n",
            "|(17,[0,1,2,3,4,5,...|449000.0|487496.36237785016|\n",
            "|(17,[0,1,2,3,4,5,...|190000.0|340333.91761115956|\n",
            "|(17,[0,1,2,3,4,5,...|896000.0| 656752.9867498052|\n",
            "|(17,[0,1,2,3,4,5,...|679000.0|1072315.8616056433|\n",
            "|(17,[0,1,2,3,4,5,...|620000.0| 607333.6085738302|\n",
            "|(17,[0,1,2,3,4,5,...|727000.0| 607333.6085738302|\n",
            "|(17,[0,1,2,3,4,5,...|880000.0| 607333.6085738302|\n",
            "|(17,[0,1,2,3,4,5,...|435000.0|340333.91761115956|\n",
            "+--------------------+--------+------------------+\n",
            "only showing top 20 rows\n",
            "\n"
          ]
        }
      ]
    },
    {
      "cell_type": "markdown",
      "source": [
        "## Metrics to evaluate our dtr model"
      ],
      "metadata": {
        "id": "JKYreeqwZD0k"
      }
    },
    {
      "cell_type": "code",
      "source": [
        "evaluator = RegressionEvaluator()\n",
        "\n",
        "print(evaluator.evaluate(predicted_dtr_train, {evaluator.metricName: 'r2'}))\n",
        "print(evaluator.evaluate(predicted_dtr_train, {evaluator.metricName: 'rmse'}))"
      ],
      "metadata": {
        "colab": {
          "base_uri": "https://localhost:8080/"
        },
        "id": "SOqQ4XVqZHVY",
        "outputId": "53f0f43e-6c2f-4723-f6d6-bd595ccbe834"
      },
      "execution_count": null,
      "outputs": [
        {
          "output_type": "stream",
          "name": "stdout",
          "text": [
            "0.7806009867408272\n",
            "645091.6980365565\n"
          ]
        }
      ]
    },
    {
      "cell_type": "code",
      "source": [
        "predicted_dtr_test = model_dtr.transform(test)"
      ],
      "metadata": {
        "id": "21M3cEV5ZoD-"
      },
      "execution_count": null,
      "outputs": []
    },
    {
      "cell_type": "code",
      "source": [
        "predicted_dtr_test.show()"
      ],
      "metadata": {
        "colab": {
          "base_uri": "https://localhost:8080/"
        },
        "id": "G1lODx1CadT6",
        "outputId": "80a2f314-3102-4c46-870e-fab95993c4f1"
      },
      "execution_count": null,
      "outputs": [
        {
          "output_type": "stream",
          "name": "stdout",
          "text": [
            "+--------------------+---------+------------------+\n",
            "|            features|    label|        prediction|\n",
            "+--------------------+---------+------------------+\n",
            "|(17,[0,1,2,3,4,5,...| 199000.0|340333.91761115956|\n",
            "|(17,[0,1,2,3,4,5,...| 350000.0| 795307.4905239688|\n",
            "|(17,[0,1,2,3,4,5,...| 340000.0|487496.36237785016|\n",
            "|(17,[0,1,2,3,4,5,...| 430000.0| 607333.6085738302|\n",
            "|(17,[0,1,2,3,4,5,...| 600000.0| 607333.6085738302|\n",
            "|(17,[0,1,2,3,4,5,...| 439000.0|487496.36237785016|\n",
            "|(17,[0,1,2,3,4,5,...| 333000.0|340333.91761115956|\n",
            "|(17,[0,1,2,3,4,5,...| 948000.0| 656752.9867498052|\n",
            "|(17,[0,1,2,3,4,5,...| 459600.0|340333.91761115956|\n",
            "|(17,[0,1,2,3,4,5,...| 447600.0|340333.91761115956|\n",
            "|(17,[0,1,2,3,4,5,...| 360000.0|340333.91761115956|\n",
            "|(17,[0,1,2,3,4,5,...| 407000.0|487496.36237785016|\n",
            "|(17,[0,1,2,3,4,5,...| 310000.0|340333.91761115956|\n",
            "|(17,[0,1,2,3,4,5,...|1400000.0|1072315.8616056433|\n",
            "|(17,[0,1,2,3,4,5,...|1180000.0|1072315.8616056433|\n",
            "|(17,[0,1,2,3,4,5,...|1299500.0|1072315.8616056433|\n",
            "|(17,[0,1,2,3,4,5,...| 296100.0|340333.91761115956|\n",
            "|(17,[0,1,2,3,4,5,...| 285000.0|340333.91761115956|\n",
            "|(17,[0,1,2,3,4,5,...| 679720.0| 607333.6085738302|\n",
            "|(17,[0,1,2,3,4,5,...| 509150.0|487496.36237785016|\n",
            "+--------------------+---------+------------------+\n",
            "only showing top 20 rows\n",
            "\n"
          ]
        }
      ]
    },
    {
      "cell_type": "code",
      "source": [
        "print('Decision Tree Regression')\n",
        "print(\"=\"*30)\n",
        "print(\"Train data\")\n",
        "print(\"=\"*30)\n",
        "print(\"R²: %f\" % evaluator.evaluate(predicted_dtr_train, {evaluator.metricName: \"r2\"}))\n",
        "print(\"RMSE: %f\" % evaluator.evaluate(predicted_dtr_train, {evaluator.metricName: \"rmse\"}))\n",
        "print(\"\")\n",
        "print(\"=\"*30)\n",
        "print(\"Test data\")\n",
        "print(\"=\"*30)\n",
        "print(\"R²: %f\" % evaluator.evaluate(predicted_dtr_test, {evaluator.metricName: \"r2\"}))\n",
        "print(\"RMSE: %f\" % evaluator.evaluate(predicted_dtr_test, {evaluator.metricName: \"rmse\"}))\n"
      ],
      "metadata": {
        "colab": {
          "base_uri": "https://localhost:8080/"
        },
        "id": "xSB1cUgIasDd",
        "outputId": "f41c42a4-cb81-4f9f-8c71-1253098a174b"
      },
      "execution_count": null,
      "outputs": [
        {
          "output_type": "stream",
          "name": "stdout",
          "text": [
            "Decision Tree Regression\n",
            "==============================\n",
            "Train data\n",
            "==============================\n",
            "R²: 0.780601\n",
            "RMSE: 645091.698037\n",
            "\n",
            "==============================\n",
            "Test data\n",
            "==============================\n",
            "R²: 0.765412\n",
            "RMSE: 680582.757105\n"
          ]
        }
      ]
    },
    {
      "cell_type": "markdown",
      "source": [
        "## Random forest regression\n",
        "\n",
        "This model is ensemble, which means that it combines one or several machine learning techniques to do the regression in a more complex and efficient way.\n",
        "\n",
        "Random Forest works with several decision trees. Our data will pass through each of these trees and, in the end, we will have several different results and we will enter a voting phase\n",
        "\n",
        "This voting phase is usually more specific when working with ranking models.\n",
        "Let's imagine that our data went through all the regression trees — which are decision trees for regression — and, in the end, we have several property values that each one of them predicted.\n",
        "\n",
        "We'll take all these values and average them. The result, that is, the prediction of this Random Forest model is an average of all the decision trees that generated different results (trees that attributed different weights to the explanatory variables)."
      ],
      "metadata": {
        "id": "V2JVlAI3fpru"
      }
    },
    {
      "cell_type": "code",
      "source": [
        "rfr = RandomForestRegressor(seed=101, maxDepth=7, numTrees=10)"
      ],
      "metadata": {
        "id": "NfSbJl0tfrai"
      },
      "execution_count": null,
      "outputs": []
    },
    {
      "cell_type": "code",
      "source": [
        "model_rfr = rfr.fit(train)"
      ],
      "metadata": {
        "id": "J9FoStzWseaS"
      },
      "execution_count": null,
      "outputs": []
    },
    {
      "cell_type": "code",
      "source": [
        "predicted_rfr_train = model_rfr.transform(train)"
      ],
      "metadata": {
        "id": "RSPyzSAGsjLO"
      },
      "execution_count": null,
      "outputs": []
    },
    {
      "cell_type": "code",
      "source": [
        "predicted_rfr_train.show()"
      ],
      "metadata": {
        "colab": {
          "base_uri": "https://localhost:8080/"
        },
        "id": "HTFuEiMIsqXO",
        "outputId": "c624883f-33b6-4a17-b7b9-aa360f742c52"
      },
      "execution_count": null,
      "outputs": [
        {
          "output_type": "stream",
          "name": "stdout",
          "text": [
            "+--------------------+--------+------------------+\n",
            "|            features|   label|        prediction|\n",
            "+--------------------+--------+------------------+\n",
            "|(17,[0,1,2,3,4,5,...|260000.0| 346051.9498722182|\n",
            "|(17,[0,1,2,3,4,5,...|500000.0| 467673.8222067874|\n",
            "|(17,[0,1,2,3,4,5,...|308615.0| 368559.2755293709|\n",
            "|(17,[0,1,2,3,4,5,...|279000.0| 368559.2755293709|\n",
            "|(17,[0,1,2,3,4,5,...|545000.0|436464.46354777616|\n",
            "|(17,[0,1,2,3,4,5,...|449000.0| 461564.2702914601|\n",
            "|(17,[0,1,2,3,4,5,...|479000.0| 448314.2997879127|\n",
            "|(17,[0,1,2,3,4,5,...|420000.0|  829968.208472768|\n",
            "|(17,[0,1,2,3,4,5,...|265000.0|460200.74061624537|\n",
            "|(17,[0,1,2,3,4,5,...|490000.0|  842349.730314248|\n",
            "|(17,[0,1,2,3,4,5,...|650000.0| 655553.9151316526|\n",
            "|(17,[0,1,2,3,4,5,...|379900.0|446950.77011269797|\n",
            "|(17,[0,1,2,3,4,5,...|449000.0| 422581.0504403743|\n",
            "|(17,[0,1,2,3,4,5,...|190000.0| 387437.6223972309|\n",
            "|(17,[0,1,2,3,4,5,...|896000.0| 655553.9151316526|\n",
            "|(17,[0,1,2,3,4,5,...|679000.0| 872354.8245077856|\n",
            "|(17,[0,1,2,3,4,5,...|620000.0| 594611.7162161029|\n",
            "|(17,[0,1,2,3,4,5,...|727000.0| 594611.7162161029|\n",
            "|(17,[0,1,2,3,4,5,...|880000.0| 587871.6545437505|\n",
            "|(17,[0,1,2,3,4,5,...|435000.0| 387437.6223972309|\n",
            "+--------------------+--------+------------------+\n",
            "only showing top 20 rows\n",
            "\n"
          ]
        }
      ]
    },
    {
      "cell_type": "markdown",
      "source": [
        "## Metrics to evaluate our rfr model"
      ],
      "metadata": {
        "id": "yQSxAZh4s5X_"
      }
    },
    {
      "cell_type": "code",
      "source": [
        "print('='*20)\n",
        "print(f'r2: ', evaluator.evaluate(predicted_rfr_train, {evaluator.metricName: 'r2'}))\n",
        "print('='*20)\n",
        "print(f'rmse: ', evaluator.evaluate(predicted_rfr_train, {evaluator.metricName: 'rmse'}))\n",
        "print('='*20)"
      ],
      "metadata": {
        "colab": {
          "base_uri": "https://localhost:8080/"
        },
        "id": "WGIs5r9ls_RO",
        "outputId": "f309535a-a71e-4766-c1c5-91c7dfafa047"
      },
      "execution_count": null,
      "outputs": [
        {
          "output_type": "stream",
          "name": "stdout",
          "text": [
            "====================\n",
            "r2:  0.7894136580479577\n",
            "====================\n",
            "rmse:  632003.1139579864\n",
            "====================\n"
          ]
        }
      ]
    },
    {
      "cell_type": "code",
      "source": [
        "predicted_rfr_test = model_rfr.transform(test)"
      ],
      "metadata": {
        "id": "lsi6nQfFuGpL"
      },
      "execution_count": null,
      "outputs": []
    },
    {
      "cell_type": "code",
      "source": [
        "predicted_rfr_test.show()"
      ],
      "metadata": {
        "colab": {
          "base_uri": "https://localhost:8080/"
        },
        "id": "4c0ID35XuUrp",
        "outputId": "16ce25d0-11e4-4910-cfb1-1dc3e4d38161"
      },
      "execution_count": null,
      "outputs": [
        {
          "output_type": "stream",
          "name": "stdout",
          "text": [
            "+--------------------+---------+------------------+\n",
            "|            features|    label|        prediction|\n",
            "+--------------------+---------+------------------+\n",
            "|(17,[0,1,2,3,4,5,...| 199000.0| 368559.2755293709|\n",
            "|(17,[0,1,2,3,4,5,...| 350000.0|  842349.730314248|\n",
            "|(17,[0,1,2,3,4,5,...| 340000.0| 594611.7162161029|\n",
            "|(17,[0,1,2,3,4,5,...| 430000.0| 594611.7162161029|\n",
            "|(17,[0,1,2,3,4,5,...| 600000.0| 587871.6545437505|\n",
            "|(17,[0,1,2,3,4,5,...| 439000.0|469382.73628186464|\n",
            "|(17,[0,1,2,3,4,5,...| 333000.0| 387437.6223972309|\n",
            "|(17,[0,1,2,3,4,5,...| 948000.0| 655553.9151316526|\n",
            "|(17,[0,1,2,3,4,5,...| 459600.0| 387437.6223972309|\n",
            "|(17,[0,1,2,3,4,5,...| 447600.0| 387437.6223972309|\n",
            "|(17,[0,1,2,3,4,5,...| 360000.0| 387437.6223972309|\n",
            "|(17,[0,1,2,3,4,5,...| 407000.0| 606461.5524562395|\n",
            "|(17,[0,1,2,3,4,5,...| 310000.0| 433441.8067236291|\n",
            "|(17,[0,1,2,3,4,5,...|1400000.0|1488179.1239470425|\n",
            "|(17,[0,1,2,3,4,5,...|1180000.0|1488179.1239470425|\n",
            "|(17,[0,1,2,3,4,5,...|1299500.0|1169213.7603849554|\n",
            "|(17,[0,1,2,3,4,5,...| 296100.0| 362061.0306293204|\n",
            "|(17,[0,1,2,3,4,5,...| 285000.0| 370453.0709322586|\n",
            "|(17,[0,1,2,3,4,5,...| 679720.0|513825.51453273464|\n",
            "|(17,[0,1,2,3,4,5,...| 509150.0| 539142.0547576264|\n",
            "+--------------------+---------+------------------+\n",
            "only showing top 20 rows\n",
            "\n"
          ]
        }
      ]
    },
    {
      "cell_type": "code",
      "source": [
        "print('Random Forest Regression')\n",
        "print(\"=\"*30)\n",
        "print(\"Train data\")\n",
        "print(\"=\"*30)\n",
        "print(\"R²: %f\" % evaluator.evaluate(predicted_rfr_train, {evaluator.metricName: \"r2\"}))\n",
        "print(\"RMSE: %f\" % evaluator.evaluate(predicted_rfr_train, {evaluator.metricName: \"rmse\"}))\n",
        "print(\"\")\n",
        "print(\"=\"*30)\n",
        "print(\"Test data\")\n",
        "print(\"=\"*30)\n",
        "print(\"R²: %f\" % evaluator.evaluate(predicted_rfr_test, {evaluator.metricName: \"r2\"}))\n",
        "print(\"RMSE: %f\" % evaluator.evaluate(predicted_rfr_test, {evaluator.metricName: \"rmse\"}))\n"
      ],
      "metadata": {
        "colab": {
          "base_uri": "https://localhost:8080/"
        },
        "id": "7woxHQNQubAz",
        "outputId": "85d65572-dad9-4477-c931-72a5b375e6d3"
      },
      "execution_count": null,
      "outputs": [
        {
          "output_type": "stream",
          "name": "stdout",
          "text": [
            "Random Forest Regression\n",
            "==============================\n",
            "Train data\n",
            "==============================\n",
            "R²: 0.789414\n",
            "RMSE: 632003.113958\n",
            "\n",
            "==============================\n",
            "Test data\n",
            "==============================\n",
            "R²: 0.777123\n",
            "RMSE: 663376.875732\n"
          ]
        }
      ]
    },
    {
      "cell_type": "markdown",
      "source": [
        "# Optmization techniques\n",
        "\n",
        "Cross-validation is a resampling method that uses different portions of the data to test and train a model on different iterations. It is mainly used in settings where the goal is prediction, and one wants to estimate how accurately a predictive model will perform in practice."
      ],
      "metadata": {
        "id": "QESoSvJ5v0zO"
      }
    },
    {
      "cell_type": "markdown",
      "source": [
        "## Cross validation Decision Tree"
      ],
      "metadata": {
        "id": "MbLZW2omxEcK"
      }
    },
    {
      "cell_type": "code",
      "source": [
        "dtr"
      ],
      "metadata": {
        "colab": {
          "base_uri": "https://localhost:8080/"
        },
        "id": "XBxyVMykv6K9",
        "outputId": "e48cf263-339e-49b8-cbc2-017fc2aebb9b"
      },
      "execution_count": null,
      "outputs": [
        {
          "output_type": "execute_result",
          "data": {
            "text/plain": [
              "DecisionTreeRegressor_5b2d86aa7dbf"
            ]
          },
          "metadata": {},
          "execution_count": 74
        }
      ]
    },
    {
      "cell_type": "markdown",
      "source": [
        "This are the parameters that I want the model run some tests."
      ],
      "metadata": {
        "id": "YDyCXGtCyRY4"
      }
    },
    {
      "cell_type": "code",
      "source": [
        "grid = ParamGridBuilder() \\\n",
        "  .addGrid(dtr.maxDepth, [2, 5, 10]) \\\n",
        "  .addGrid(dtr.maxBins, [10, 32, 45]) \\\n",
        "  .build()"
      ],
      "metadata": {
        "id": "6UKvBt3VxMph"
      },
      "execution_count": null,
      "outputs": []
    },
    {
      "cell_type": "markdown",
      "source": [
        "The `ParamGridBuilder` method defines a grid with the parameters that will be used to test the model when performing cross validation."
      ],
      "metadata": {
        "id": "iG6kn2k71LXF"
      }
    },
    {
      "cell_type": "code",
      "source": [
        "evaluator"
      ],
      "metadata": {
        "colab": {
          "base_uri": "https://localhost:8080/"
        },
        "id": "nXDFgfEVximI",
        "outputId": "26d91214-b152-4434-ff65-f674c2e4b416"
      },
      "execution_count": null,
      "outputs": [
        {
          "output_type": "execute_result",
          "data": {
            "text/plain": [
              "RegressionEvaluator_a6e53a8a4d3c"
            ]
          },
          "metadata": {},
          "execution_count": 76
        }
      ]
    },
    {
      "cell_type": "code",
      "source": [
        "dtr_cv = CrossValidator(\n",
        "    estimator = dtr,\n",
        "    estimatorParamMaps=grid,\n",
        "    evaluator = evaluator,\n",
        "    numFolds = 3,\n",
        "    seed = 101\n",
        ")"
      ],
      "metadata": {
        "id": "N0LODwesxqLe"
      },
      "execution_count": null,
      "outputs": []
    },
    {
      "cell_type": "code",
      "source": [
        "model_dtr_cv = dtr_cv.fit(train)"
      ],
      "metadata": {
        "id": "KuJxNUHAyouu"
      },
      "execution_count": null,
      "outputs": []
    },
    {
      "cell_type": "code",
      "source": [
        "predicted_dtr_cv_test = model_dtr_cv.transform(test)"
      ],
      "metadata": {
        "id": "6BKaN1WVyxwt"
      },
      "execution_count": null,
      "outputs": []
    },
    {
      "cell_type": "code",
      "source": [
        "print('Decision Tree Regression')\n",
        "print(\"=\"*30)\n",
        "print(\"=\"*30)\n",
        "print(\"Whithout Cross Validation\")\n",
        "print(\"=\"*30)\n",
        "print(\"R²: %f\" % evaluator.evaluate(predicted_dtr_test, {evaluator.metricName: \"r2\"}))\n",
        "print(\"RMSE: %f\" % evaluator.evaluate(predicted_dtr_test, {evaluator.metricName: \"rmse\"}))\n",
        "print(\"\")\n",
        "print(\"=\"*30)\n",
        "print(\"Cross Validation\")\n",
        "print(\"=\"*30)\n",
        "print(\"R²: %f\" % evaluator.evaluate(predicted_dtr_cv_test, {evaluator.metricName: \"r2\"}))\n",
        "print(\"RMSE: %f\" % evaluator.evaluate(predicted_dtr_cv_test, {evaluator.metricName: \"rmse\"}))\n"
      ],
      "metadata": {
        "colab": {
          "base_uri": "https://localhost:8080/"
        },
        "id": "ouG24_kLy-9h",
        "outputId": "993c7c8c-e270-44c3-d13e-91d34124fb26"
      },
      "execution_count": null,
      "outputs": [
        {
          "output_type": "stream",
          "name": "stdout",
          "text": [
            "Decision Tree Regression\n",
            "==============================\n",
            "==============================\n",
            "Whithout Cross Validation\n",
            "==============================\n",
            "R²: 0.765412\n",
            "RMSE: 680582.757105\n",
            "\n",
            "==============================\n",
            "Cross Validation\n",
            "==============================\n",
            "R²: 0.780736\n",
            "RMSE: 657979.195875\n"
          ]
        }
      ]
    },
    {
      "cell_type": "markdown",
      "source": [
        "## Cross validation Random Forest"
      ],
      "metadata": {
        "id": "PzYz3deJxC2o"
      }
    },
    {
      "cell_type": "code",
      "source": [
        "rfr"
      ],
      "metadata": {
        "colab": {
          "base_uri": "https://localhost:8080/"
        },
        "id": "XvzxGBvyxIG7",
        "outputId": "9f70584d-3fec-462d-a232-ef9a680ad55a"
      },
      "execution_count": null,
      "outputs": [
        {
          "output_type": "execute_result",
          "data": {
            "text/plain": [
              "RandomForestRegressor_69018f71bafd"
            ]
          },
          "metadata": {},
          "execution_count": 81
        }
      ]
    },
    {
      "cell_type": "code",
      "source": [
        "grid = ParamGridBuilder() \\\n",
        "  .addGrid(rfr.numTrees, [10, 20, 30]) \\\n",
        "  .addGrid(rfr.maxDepth, [5, 10]) \\\n",
        "  .addGrid(rfr.maxBins, [10, 32, 45]) \\\n",
        "  .build()"
      ],
      "metadata": {
        "id": "zf3bo7ADxONg"
      },
      "execution_count": null,
      "outputs": []
    },
    {
      "cell_type": "code",
      "source": [
        "evaluator"
      ],
      "metadata": {
        "colab": {
          "base_uri": "https://localhost:8080/"
        },
        "id": "Bzth6LpFxsw_",
        "outputId": "ff832ec3-8579-48cf-f6fa-78705d0a3fe9"
      },
      "execution_count": null,
      "outputs": [
        {
          "output_type": "execute_result",
          "data": {
            "text/plain": [
              "RegressionEvaluator_a6e53a8a4d3c"
            ]
          },
          "metadata": {},
          "execution_count": 84
        }
      ]
    },
    {
      "cell_type": "code",
      "source": [
        "rfr_cv = CrossValidator (\n",
        "    estimator = rfr,\n",
        "    estimatorParamMaps = grid,\n",
        "    evaluator = evaluator,\n",
        "    numFolds = 3\n",
        ")"
      ],
      "metadata": {
        "id": "7k5dS7CzxuHs"
      },
      "execution_count": null,
      "outputs": []
    },
    {
      "cell_type": "code",
      "source": [
        "model_rfr_cv = rfr_cv.fit(train)"
      ],
      "metadata": {
        "id": "G5exsyw6x-Vs"
      },
      "execution_count": null,
      "outputs": []
    },
    {
      "cell_type": "code",
      "source": [
        "predicted_rfr_cv_test = model_rfr_cv.transform(test)"
      ],
      "metadata": {
        "id": "SyNZeDQsyIN4"
      },
      "execution_count": null,
      "outputs": []
    },
    {
      "cell_type": "code",
      "source": [
        "print('Random Forest Regression')\n",
        "print(\"=\"*30)\n",
        "print(\"Whithout Cross Validation\")\n",
        "print(\"=\"*30)\n",
        "print(\"R²: %f\" % evaluator.evaluate(predicted_rfr_test, {evaluator.metricName: \"r2\"}))\n",
        "print(\"RMSE: %f\" % evaluator.evaluate(predicted_rfr_test, {evaluator.metricName: \"rmse\"}))\n",
        "print(\"\")\n",
        "print(\"=\"*30)\n",
        "print(\"Cross Validation\")\n",
        "print(\"=\"*30)\n",
        "print(\"R²: %f\" % evaluator.evaluate(predicted_rfr_cv_test, {evaluator.metricName: \"r2\"}))\n",
        "print(\"RMSE: %f\" % evaluator.evaluate(predicted_rfr_cv_test, {evaluator.metricName: \"rmse\"}))\n"
      ],
      "metadata": {
        "colab": {
          "base_uri": "https://localhost:8080/"
        },
        "id": "a4oYasPwyizS",
        "outputId": "2c87710d-7257-4611-b4ef-d902904a8a92"
      },
      "execution_count": null,
      "outputs": [
        {
          "output_type": "stream",
          "name": "stdout",
          "text": [
            "Random Forest Regression\n",
            "==============================\n",
            "Whithout Cross Validation\n",
            "==============================\n",
            "R²: 0.777123\n",
            "RMSE: 663376.875732\n",
            "\n",
            "==============================\n",
            "Cross Validation\n",
            "==============================\n",
            "R²: 0.818451\n",
            "RMSE: 598721.337369\n"
          ]
        }
      ]
    },
    {
      "cell_type": "markdown",
      "source": [
        "# Predicting results using the best model"
      ],
      "metadata": {
        "id": "F5j5pUKhzjJR"
      }
    },
    {
      "cell_type": "code",
      "source": [
        "data_set.show()"
      ],
      "metadata": {
        "colab": {
          "base_uri": "https://localhost:8080/"
        },
        "id": "7s6euj_y0SrN",
        "outputId": "0a2626b4-7e24-418e-8643-742fa28eb0bf"
      },
      "execution_count": null,
      "outputs": [
        {
          "output_type": "stream",
          "name": "stdout",
          "text": [
            "+---------------+-----------+-----------+---------+--------+------+-------------+------+---------+---------------+-----------+--------------------+------------+-------+-----+------+-----------+----+------+------------+----------+----------+--------+\n",
            "|     customerID|       unit|      usage|bathrooms|bedrooms|floors|parkingSpaces|suites|unitFloor|unitsOnTheFloor|usableAreas|        neighborhood|        zone|  label|condo|  iptu|Apartamento|Casa|Outros|Zona Central|Zona Norte|Zona Oeste|Zona Sul|\n",
            "+---------------+-----------+-----------+---------+--------+------+-------------+------+---------+---------------+-----------+--------------------+------------+-------+-----+------+-----------+----+------+------------+----------+----------+--------+\n",
            "|775564-BOJSMVON|     Outros|Residencial|        0|       0|     0|            1|     0|        0|              0|         62|             Taquara|  Zona Oeste|45000.0|150.0|   0.0|          0|   0|     1|           0|         0|         1|       0|\n",
            "|660895-AUENKNYY|Apartamento|Residencial|        1|       2|     0|            1|     0|        0|              0|         44|          Santíssimo|  Zona Oeste|45000.0|120.0|   0.0|          1|   0|     0|           0|         0|         1|       0|\n",
            "|751522-JESYFEQL|     Outros|Residencial|        0|       0|     0|            0|     0|        0|              0|        132|  Pedra de Guaratiba|  Zona Oeste|50000.0|100.0|   0.0|          0|   0|     1|           0|         0|         1|       0|\n",
            "|714052-GAAEWYKS|     Outros|  Comercial|        1|       0|     0|            0|     0|        3|              0|         32|           Cascadura|  Zona Norte|45000.0|468.0| 346.0|          0|   0|     1|           0|         1|         0|       0|\n",
            "|568886-ZIBFOMCC|Apartamento|Residencial|        2|       3|     3|            1|     1|        2|              4|         60|Recreio dos Bande...|  Zona Oeste|50000.0|400.0| 120.0|          1|   0|     0|           0|         0|         1|       0|\n",
            "|526755-OBLTYTEN|     Outros|Residencial|        0|       0|     0|            0|     0|        0|              0|        200|           Guaratiba|  Zona Oeste|50000.0|  0.0|   0.0|          0|   0|     1|           0|         0|         1|       0|\n",
            "|593569-CJLMNFGW|     Outros|  Comercial|        1|       0|     0|            0|     0|        2|              0|         25|Freguesia (Jacare...|  Zona Oeste|50000.0|801.0| 211.0|          0|   0|     1|           0|         0|         1|       0|\n",
            "|989181-RYJOLMCU|     Outros|  Comercial|        1|       0|     0|            0|     0|        0|              0|         23|               Penha|  Zona Norte|50000.0|230.0|   0.0|          0|   0|     1|           0|         1|         0|       0|\n",
            "|145372-EZKAKSWM|     Outros|  Comercial|        0|       0|     0|            0|     0|        0|              0|         60|Ricardo de Albuqu...|  Zona Norte|45000.0|  0.0|   0.0|          0|   0|     1|           0|         1|         0|       0|\n",
            "|792086-NWNQTDYL|Apartamento|Residencial|        1|       1|     0|            1|     0|        0|              0|         33|         Jacarezinho|  Zona Norte|45336.0|  0.0|   0.0|          1|   0|     0|           0|         1|         0|       0|\n",
            "|339622-MNZGLKTZ|     Outros|Residencial|        0|       0|     0|            0|     0|        0|              0|        120|           Guaratiba|  Zona Oeste|45000.0|  0.0|   0.0|          0|   0|     1|           0|         0|         1|       0|\n",
            "|952338-SVULQMXR|     Outros|Residencial|        0|       0|     0|            0|     0|        0|              0|        468|          Santa Cruz|  Zona Oeste|45000.0|  0.0|   0.0|          0|   0|     1|           0|         0|         1|       0|\n",
            "|570439-LDICQOXZ|     Outros|Residencial|        0|       0|     0|            0|     0|        1|              0|        180|       Vargem Grande|  Zona Oeste|50000.0|  0.0|   0.0|          0|   0|     1|           0|         0|         1|       0|\n",
            "|684023-YTBNKLLO|     Outros|Residencial|        0|       0|     0|            0|     0|        0|              0|        128|               Bangu|  Zona Oeste|50000.0|  0.0|   0.0|          0|   0|     1|           0|         0|         1|       0|\n",
            "|629412-VKUMMAVR|     Outros|Residencial|        0|       0|     0|            0|     0|        1|              0|         82|              Tanque|  Zona Oeste|45000.0|300.0|   0.0|          0|   0|     1|           0|         0|         1|       0|\n",
            "|041590-HMJIRKDX|     Outros|  Comercial|        0|       0|     0|            1|     0|        0|              0|          5|              Centro|Zona Central|45000.0|  0.0|   0.0|          0|   0|     1|           1|         0|         0|       0|\n",
            "|870098-XTRYJAGY|     Outros|  Comercial|        1|       0|     0|            0|     0|        0|              0|        350|           Madureira|  Zona Norte|50000.0|  0.0|1600.0|          0|   0|     1|           0|         1|         0|       0|\n",
            "|951104-MACIAPIS|Apartamento|Residencial|        2|       3|    20|            1|     1|       20|             19|         70|        Santo Cristo|Zona Central|45000.0|350.0| 120.0|          1|   0|     0|           1|         0|         0|       0|\n",
            "|375665-GHMFEZXX|Apartamento|Residencial|        2|       3|    20|            1|     1|       20|             19|         70|        Santo Cristo|Zona Central|50000.0|350.0| 120.0|          1|   0|     0|           1|         0|         0|       0|\n",
            "|441711-LRTWHRUA|Apartamento|Residencial|        1|       1|     0|            0|     0|        2|              0|         37|  Pedra de Guaratiba|  Zona Oeste|50000.0|  0.0|   0.0|          1|   0|     0|           0|         0|         1|       0|\n",
            "+---------------+-----------+-----------+---------+--------+------+-------------+------+---------+---------------+-----------+--------------------+------------+-------+-----+------+-----------+----+------+------------+----------+----------+--------+\n",
            "only showing top 20 rows\n",
            "\n"
          ]
        }
      ]
    },
    {
      "cell_type": "code",
      "source": [
        "# explanation variables\n",
        "X"
      ],
      "metadata": {
        "colab": {
          "base_uri": "https://localhost:8080/"
        },
        "id": "FghBKXhR0U5-",
        "outputId": "432110a6-bbb5-4c24-8dd8-cadcae455f25"
      },
      "execution_count": null,
      "outputs": [
        {
          "output_type": "execute_result",
          "data": {
            "text/plain": [
              "['bathrooms',\n",
              " 'bedrooms',\n",
              " 'floors',\n",
              " 'parkingSpaces',\n",
              " 'suites',\n",
              " 'unitFloor',\n",
              " 'unitsOnTheFloor',\n",
              " 'usableAreas',\n",
              " 'condo',\n",
              " 'iptu',\n",
              " 'Apartamento',\n",
              " 'Casa',\n",
              " 'Outros',\n",
              " 'Zona Central',\n",
              " 'Zona Norte',\n",
              " 'Zona Oeste',\n",
              " 'Zona Sul']"
            ]
          },
          "metadata": {},
          "execution_count": 90
        }
      ]
    },
    {
      "cell_type": "code",
      "source": [
        "new_house = [{\n",
        "    'bathrooms': 2,\n",
        "    'bedrooms': 2,\n",
        "    'floors': 2,\n",
        "    'parkingSpaces': 1,\n",
        "    'suites': 1,\n",
        "    'unitFloor':0,\n",
        "    'unitsOnTheFloor':0,\n",
        "    'usableAreas':200,\n",
        "    'condo':200,\n",
        "    'iptu':0,\n",
        "    'Apartamento':0,\n",
        "    'Casa':1,\n",
        "    'Outros':0,\n",
        "    'Zona Central':0,\n",
        "    'Zona Norte':0,\n",
        "    'Zona Oeste':0,\n",
        "    'Zona Sul':1,\n",
        "        'label': 0}]\n"
      ],
      "metadata": {
        "id": "LrX804io0hLu"
      },
      "execution_count": null,
      "outputs": []
    },
    {
      "cell_type": "code",
      "source": [
        "new_house = spark.createDataFrame(new_house)"
      ],
      "metadata": {
        "id": "eZAVvEh005mX"
      },
      "execution_count": null,
      "outputs": []
    },
    {
      "cell_type": "code",
      "source": [
        "assembler = VectorAssembler(inputCols=X, outputCol='features')"
      ],
      "metadata": {
        "id": "5_uYsZ9f1IGq"
      },
      "execution_count": null,
      "outputs": []
    },
    {
      "cell_type": "code",
      "source": [
        "my_house_vectorized = assembler.transform(new_house).select('features', 'label')"
      ],
      "metadata": {
        "id": "UokVvFeM1AHv"
      },
      "execution_count": null,
      "outputs": []
    },
    {
      "cell_type": "code",
      "source": [
        "my_house_vectorized.show(truncate=False)"
      ],
      "metadata": {
        "colab": {
          "base_uri": "https://localhost:8080/"
        },
        "id": "qJ6K2wwg1YiZ",
        "outputId": "37dd0ab4-9974-477c-ccf2-51f1a7ef4879"
      },
      "execution_count": null,
      "outputs": [
        {
          "output_type": "stream",
          "name": "stdout",
          "text": [
            "+--------------------------------------------------------------------+-----+\n",
            "|features                                                            |label|\n",
            "+--------------------------------------------------------------------+-----+\n",
            "|(17,[0,1,2,3,4,7,8,11,16],[2.0,2.0,2.0,1.0,1.0,200.0,200.0,1.0,1.0])|0    |\n",
            "+--------------------------------------------------------------------+-----+\n",
            "\n"
          ]
        }
      ]
    },
    {
      "cell_type": "code",
      "source": [
        "model_rfr_cv.transform(my_house_vectorized).show(truncate=False)"
      ],
      "metadata": {
        "colab": {
          "base_uri": "https://localhost:8080/"
        },
        "id": "ZhTuv-DN1vcj",
        "outputId": "f0015452-26e6-47ac-dfe1-04d0599d44e8"
      },
      "execution_count": null,
      "outputs": [
        {
          "output_type": "stream",
          "name": "stdout",
          "text": [
            "+--------------------------------------------------------------------+-----+------------------+\n",
            "|features                                                            |label|prediction        |\n",
            "+--------------------------------------------------------------------+-----+------------------+\n",
            "|(17,[0,1,2,3,4,7,8,11,16],[2.0,2.0,2.0,1.0,1.0,200.0,200.0,1.0,1.0])|0    |2266756.2946602134|\n",
            "+--------------------------------------------------------------------+-----+------------------+\n",
            "\n"
          ]
        }
      ]
    },
    {
      "cell_type": "markdown",
      "source": [
        "Initially, we analyzed and preprocessed the data, selecting relevant features and addressing data issues. This was followed by exploratory data analysis to identify relationships, leading us to employ regression models like Linear Regression and Decision Trees. Additionally, we explored ensemble models like Random Forest, assessing their performance using various metrics and techniques such as Cross Validation. Through this process, we established that our models were effective. Ultimately, we employed the best model for real-world predictions, considering its application in scenarios like property investment or cost estimation based on house features."
      ],
      "metadata": {
        "id": "9jHpkfNB3YMs"
      }
    }
  ]
}